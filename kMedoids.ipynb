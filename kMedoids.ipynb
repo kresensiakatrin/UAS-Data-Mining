{
  "nbformat": 4,
  "nbformat_minor": 0,
  "metadata": {
    "colab": {
      "name": "kMedoids.ipynb",
      "provenance": [],
      "include_colab_link": true
    },
    "kernelspec": {
      "name": "python3",
      "display_name": "Python 3"
    },
    "language_info": {
      "name": "python"
    }
  },
  "cells": [
    {
      "cell_type": "markdown",
      "metadata": {
        "id": "view-in-github",
        "colab_type": "text"
      },
      "source": [
        "<a href=\"https://colab.research.google.com/github/kresensiakatrin/UAS-Data-Mining/blob/main/kMedoids.ipynb\" target=\"_parent\"><img src=\"https://colab.research.google.com/assets/colab-badge.svg\" alt=\"Open In Colab\"/></a>"
      ]
    },
    {
      "cell_type": "markdown",
      "source": [
        "# **Import Library**"
      ],
      "metadata": {
        "id": "c6wqDMa5s22U"
      }
    },
    {
      "cell_type": "code",
      "source": [
        "import numpy as np\n",
        "import pandas as pd\n",
        "import seaborn as sns\n",
        "import matplotlib.pyplot as plt"
      ],
      "metadata": {
        "id": "Ya47EuzYs8rn"
      },
      "execution_count": 1,
      "outputs": []
    },
    {
      "cell_type": "markdown",
      "source": [
        "#**Data**"
      ],
      "metadata": {
        "id": "NTcTeJN8tM8u"
      }
    },
    {
      "cell_type": "code",
      "source": [
        "url='https://raw.githubusercontent.com/kresensiakatrin/UAS-Data-Mining/main/Data_TSDN5.csv'\n",
        "df = pd.read_csv(url,encoding='unicode_escape', sep=';')"
      ],
      "metadata": {
        "id": "0GGJXLqJ0r3a"
      },
      "execution_count": 2,
      "outputs": []
    },
    {
      "cell_type": "markdown",
      "source": [
        "# **Data Understanding**"
      ],
      "metadata": {
        "id": "wGBWOwhnJ6fk"
      }
    },
    {
      "cell_type": "code",
      "source": [
        "#Screening Dataset\n",
        "\n",
        "df.head()"
      ],
      "metadata": {
        "colab": {
          "base_uri": "https://localhost:8080/",
          "height": 206
        },
        "id": "8EbtfHLot3tu",
        "outputId": "5b115219-7bf5-430e-d60f-8489809a5405"
      },
      "execution_count": 3,
      "outputs": [
        {
          "output_type": "execute_result",
          "data": {
            "text/html": [
              "\n",
              "  <div id=\"df-5f2f4883-6330-47ce-b8c8-95523a416a6b\">\n",
              "    <div class=\"colab-df-container\">\n",
              "      <div>\n",
              "<style scoped>\n",
              "    .dataframe tbody tr th:only-of-type {\n",
              "        vertical-align: middle;\n",
              "    }\n",
              "\n",
              "    .dataframe tbody tr th {\n",
              "        vertical-align: top;\n",
              "    }\n",
              "\n",
              "    .dataframe thead th {\n",
              "        text-align: right;\n",
              "    }\n",
              "</style>\n",
              "<table border=\"1\" class=\"dataframe\">\n",
              "  <thead>\n",
              "    <tr style=\"text-align: right;\">\n",
              "      <th></th>\n",
              "      <th>Kode_Kab_Kota</th>\n",
              "      <th>Kabupaten_Kota</th>\n",
              "      <th>Konfirmasi_total</th>\n",
              "      <th>Konfirmasi_sembuh</th>\n",
              "      <th>Konfirmasi_meninggal</th>\n",
              "      <th>Konfirmasi_aktif</th>\n",
              "      <th>Jumlah_RS_Rujukan</th>\n",
              "      <th>Jumlah_nakes</th>\n",
              "      <th>Kepadatan_Penduduk</th>\n",
              "    </tr>\n",
              "  </thead>\n",
              "  <tbody>\n",
              "    <tr>\n",
              "      <th>0</th>\n",
              "      <td>3204</td>\n",
              "      <td>Kabupaten Bandung</td>\n",
              "      <td>33900</td>\n",
              "      <td>33052</td>\n",
              "      <td>608</td>\n",
              "      <td>240</td>\n",
              "      <td>3</td>\n",
              "      <td>2538</td>\n",
              "      <td>2050</td>\n",
              "    </tr>\n",
              "    <tr>\n",
              "      <th>1</th>\n",
              "      <td>3217</td>\n",
              "      <td>Kabupaten Bandung Barat</td>\n",
              "      <td>19155</td>\n",
              "      <td>18787</td>\n",
              "      <td>265</td>\n",
              "      <td>103</td>\n",
              "      <td>2</td>\n",
              "      <td>1401</td>\n",
              "      <td>1370</td>\n",
              "    </tr>\n",
              "    <tr>\n",
              "      <th>2</th>\n",
              "      <td>3216</td>\n",
              "      <td>Kabupaten Bekasi</td>\n",
              "      <td>51201</td>\n",
              "      <td>50561</td>\n",
              "      <td>539</td>\n",
              "      <td>101</td>\n",
              "      <td>8</td>\n",
              "      <td>4538</td>\n",
              "      <td>2541</td>\n",
              "    </tr>\n",
              "    <tr>\n",
              "      <th>3</th>\n",
              "      <td>3201</td>\n",
              "      <td>Kabupaten Bogor</td>\n",
              "      <td>47782</td>\n",
              "      <td>47512</td>\n",
              "      <td>206</td>\n",
              "      <td>64</td>\n",
              "      <td>9</td>\n",
              "      <td>5372</td>\n",
              "      <td>2002</td>\n",
              "    </tr>\n",
              "    <tr>\n",
              "      <th>4</th>\n",
              "      <td>3207</td>\n",
              "      <td>Kabupaten Ciamis</td>\n",
              "      <td>15140</td>\n",
              "      <td>14717</td>\n",
              "      <td>311</td>\n",
              "      <td>112</td>\n",
              "      <td>1</td>\n",
              "      <td>1337</td>\n",
              "      <td>869</td>\n",
              "    </tr>\n",
              "  </tbody>\n",
              "</table>\n",
              "</div>\n",
              "      <button class=\"colab-df-convert\" onclick=\"convertToInteractive('df-5f2f4883-6330-47ce-b8c8-95523a416a6b')\"\n",
              "              title=\"Convert this dataframe to an interactive table.\"\n",
              "              style=\"display:none;\">\n",
              "        \n",
              "  <svg xmlns=\"http://www.w3.org/2000/svg\" height=\"24px\"viewBox=\"0 0 24 24\"\n",
              "       width=\"24px\">\n",
              "    <path d=\"M0 0h24v24H0V0z\" fill=\"none\"/>\n",
              "    <path d=\"M18.56 5.44l.94 2.06.94-2.06 2.06-.94-2.06-.94-.94-2.06-.94 2.06-2.06.94zm-11 1L8.5 8.5l.94-2.06 2.06-.94-2.06-.94L8.5 2.5l-.94 2.06-2.06.94zm10 10l.94 2.06.94-2.06 2.06-.94-2.06-.94-.94-2.06-.94 2.06-2.06.94z\"/><path d=\"M17.41 7.96l-1.37-1.37c-.4-.4-.92-.59-1.43-.59-.52 0-1.04.2-1.43.59L10.3 9.45l-7.72 7.72c-.78.78-.78 2.05 0 2.83L4 21.41c.39.39.9.59 1.41.59.51 0 1.02-.2 1.41-.59l7.78-7.78 2.81-2.81c.8-.78.8-2.07 0-2.86zM5.41 20L4 18.59l7.72-7.72 1.47 1.35L5.41 20z\"/>\n",
              "  </svg>\n",
              "      </button>\n",
              "      \n",
              "  <style>\n",
              "    .colab-df-container {\n",
              "      display:flex;\n",
              "      flex-wrap:wrap;\n",
              "      gap: 12px;\n",
              "    }\n",
              "\n",
              "    .colab-df-convert {\n",
              "      background-color: #E8F0FE;\n",
              "      border: none;\n",
              "      border-radius: 50%;\n",
              "      cursor: pointer;\n",
              "      display: none;\n",
              "      fill: #1967D2;\n",
              "      height: 32px;\n",
              "      padding: 0 0 0 0;\n",
              "      width: 32px;\n",
              "    }\n",
              "\n",
              "    .colab-df-convert:hover {\n",
              "      background-color: #E2EBFA;\n",
              "      box-shadow: 0px 1px 2px rgba(60, 64, 67, 0.3), 0px 1px 3px 1px rgba(60, 64, 67, 0.15);\n",
              "      fill: #174EA6;\n",
              "    }\n",
              "\n",
              "    [theme=dark] .colab-df-convert {\n",
              "      background-color: #3B4455;\n",
              "      fill: #D2E3FC;\n",
              "    }\n",
              "\n",
              "    [theme=dark] .colab-df-convert:hover {\n",
              "      background-color: #434B5C;\n",
              "      box-shadow: 0px 1px 3px 1px rgba(0, 0, 0, 0.15);\n",
              "      filter: drop-shadow(0px 1px 2px rgba(0, 0, 0, 0.3));\n",
              "      fill: #FFFFFF;\n",
              "    }\n",
              "  </style>\n",
              "\n",
              "      <script>\n",
              "        const buttonEl =\n",
              "          document.querySelector('#df-5f2f4883-6330-47ce-b8c8-95523a416a6b button.colab-df-convert');\n",
              "        buttonEl.style.display =\n",
              "          google.colab.kernel.accessAllowed ? 'block' : 'none';\n",
              "\n",
              "        async function convertToInteractive(key) {\n",
              "          const element = document.querySelector('#df-5f2f4883-6330-47ce-b8c8-95523a416a6b');\n",
              "          const dataTable =\n",
              "            await google.colab.kernel.invokeFunction('convertToInteractive',\n",
              "                                                     [key], {});\n",
              "          if (!dataTable) return;\n",
              "\n",
              "          const docLinkHtml = 'Like what you see? Visit the ' +\n",
              "            '<a target=\"_blank\" href=https://colab.research.google.com/notebooks/data_table.ipynb>data table notebook</a>'\n",
              "            + ' to learn more about interactive tables.';\n",
              "          element.innerHTML = '';\n",
              "          dataTable['output_type'] = 'display_data';\n",
              "          await google.colab.output.renderOutput(dataTable, element);\n",
              "          const docLink = document.createElement('div');\n",
              "          docLink.innerHTML = docLinkHtml;\n",
              "          element.appendChild(docLink);\n",
              "        }\n",
              "      </script>\n",
              "    </div>\n",
              "  </div>\n",
              "  "
            ],
            "text/plain": [
              "   Kode_Kab_Kota           Kabupaten_Kota  ...  Jumlah_nakes  Kepadatan_Penduduk\n",
              "0           3204        Kabupaten Bandung  ...          2538                2050\n",
              "1           3217  Kabupaten Bandung Barat  ...          1401                1370\n",
              "2           3216         Kabupaten Bekasi  ...          4538                2541\n",
              "3           3201          Kabupaten Bogor  ...          5372                2002\n",
              "4           3207         Kabupaten Ciamis  ...          1337                 869\n",
              "\n",
              "[5 rows x 9 columns]"
            ]
          },
          "metadata": {},
          "execution_count": 3
        }
      ]
    },
    {
      "cell_type": "code",
      "source": [
        "df.tail()"
      ],
      "metadata": {
        "colab": {
          "base_uri": "https://localhost:8080/",
          "height": 206
        },
        "id": "lU2G7NDYt30B",
        "outputId": "fe914b5f-dab5-425b-f13f-869e19523863"
      },
      "execution_count": 4,
      "outputs": [
        {
          "output_type": "execute_result",
          "data": {
            "text/html": [
              "\n",
              "  <div id=\"df-1f5fc848-3eac-4011-bdb7-f6e7859dfc85\">\n",
              "    <div class=\"colab-df-container\">\n",
              "      <div>\n",
              "<style scoped>\n",
              "    .dataframe tbody tr th:only-of-type {\n",
              "        vertical-align: middle;\n",
              "    }\n",
              "\n",
              "    .dataframe tbody tr th {\n",
              "        vertical-align: top;\n",
              "    }\n",
              "\n",
              "    .dataframe thead th {\n",
              "        text-align: right;\n",
              "    }\n",
              "</style>\n",
              "<table border=\"1\" class=\"dataframe\">\n",
              "  <thead>\n",
              "    <tr style=\"text-align: right;\">\n",
              "      <th></th>\n",
              "      <th>Kode_Kab_Kota</th>\n",
              "      <th>Kabupaten_Kota</th>\n",
              "      <th>Konfirmasi_total</th>\n",
              "      <th>Konfirmasi_sembuh</th>\n",
              "      <th>Konfirmasi_meninggal</th>\n",
              "      <th>Konfirmasi_aktif</th>\n",
              "      <th>Jumlah_RS_Rujukan</th>\n",
              "      <th>Jumlah_nakes</th>\n",
              "      <th>Kepadatan_Penduduk</th>\n",
              "    </tr>\n",
              "  </thead>\n",
              "  <tbody>\n",
              "    <tr>\n",
              "      <th>22</th>\n",
              "      <td>3277</td>\n",
              "      <td>Kota Cimahi</td>\n",
              "      <td>11900</td>\n",
              "      <td>11630</td>\n",
              "      <td>178</td>\n",
              "      <td>92</td>\n",
              "      <td>2</td>\n",
              "      <td>1781</td>\n",
              "      <td>14474</td>\n",
              "    </tr>\n",
              "    <tr>\n",
              "      <th>23</th>\n",
              "      <td>3274</td>\n",
              "      <td>Kota Cirebon</td>\n",
              "      <td>12812</td>\n",
              "      <td>12262</td>\n",
              "      <td>522</td>\n",
              "      <td>28</td>\n",
              "      <td>2</td>\n",
              "      <td>1670</td>\n",
              "      <td>8921</td>\n",
              "    </tr>\n",
              "    <tr>\n",
              "      <th>24</th>\n",
              "      <td>3276</td>\n",
              "      <td>Kota Depok</td>\n",
              "      <td>105089</td>\n",
              "      <td>102751</td>\n",
              "      <td>2139</td>\n",
              "      <td>199</td>\n",
              "      <td>9</td>\n",
              "      <td>4687</td>\n",
              "      <td>10267</td>\n",
              "    </tr>\n",
              "    <tr>\n",
              "      <th>25</th>\n",
              "      <td>3272</td>\n",
              "      <td>Kota Sukabumi</td>\n",
              "      <td>9205</td>\n",
              "      <td>8884</td>\n",
              "      <td>283</td>\n",
              "      <td>38</td>\n",
              "      <td>1</td>\n",
              "      <td>1410</td>\n",
              "      <td>7178</td>\n",
              "    </tr>\n",
              "    <tr>\n",
              "      <th>26</th>\n",
              "      <td>3278</td>\n",
              "      <td>Kota Tasikmalaya</td>\n",
              "      <td>13872</td>\n",
              "      <td>13283</td>\n",
              "      <td>541</td>\n",
              "      <td>48</td>\n",
              "      <td>1</td>\n",
              "      <td>1587</td>\n",
              "      <td>4173</td>\n",
              "    </tr>\n",
              "  </tbody>\n",
              "</table>\n",
              "</div>\n",
              "      <button class=\"colab-df-convert\" onclick=\"convertToInteractive('df-1f5fc848-3eac-4011-bdb7-f6e7859dfc85')\"\n",
              "              title=\"Convert this dataframe to an interactive table.\"\n",
              "              style=\"display:none;\">\n",
              "        \n",
              "  <svg xmlns=\"http://www.w3.org/2000/svg\" height=\"24px\"viewBox=\"0 0 24 24\"\n",
              "       width=\"24px\">\n",
              "    <path d=\"M0 0h24v24H0V0z\" fill=\"none\"/>\n",
              "    <path d=\"M18.56 5.44l.94 2.06.94-2.06 2.06-.94-2.06-.94-.94-2.06-.94 2.06-2.06.94zm-11 1L8.5 8.5l.94-2.06 2.06-.94-2.06-.94L8.5 2.5l-.94 2.06-2.06.94zm10 10l.94 2.06.94-2.06 2.06-.94-2.06-.94-.94-2.06-.94 2.06-2.06.94z\"/><path d=\"M17.41 7.96l-1.37-1.37c-.4-.4-.92-.59-1.43-.59-.52 0-1.04.2-1.43.59L10.3 9.45l-7.72 7.72c-.78.78-.78 2.05 0 2.83L4 21.41c.39.39.9.59 1.41.59.51 0 1.02-.2 1.41-.59l7.78-7.78 2.81-2.81c.8-.78.8-2.07 0-2.86zM5.41 20L4 18.59l7.72-7.72 1.47 1.35L5.41 20z\"/>\n",
              "  </svg>\n",
              "      </button>\n",
              "      \n",
              "  <style>\n",
              "    .colab-df-container {\n",
              "      display:flex;\n",
              "      flex-wrap:wrap;\n",
              "      gap: 12px;\n",
              "    }\n",
              "\n",
              "    .colab-df-convert {\n",
              "      background-color: #E8F0FE;\n",
              "      border: none;\n",
              "      border-radius: 50%;\n",
              "      cursor: pointer;\n",
              "      display: none;\n",
              "      fill: #1967D2;\n",
              "      height: 32px;\n",
              "      padding: 0 0 0 0;\n",
              "      width: 32px;\n",
              "    }\n",
              "\n",
              "    .colab-df-convert:hover {\n",
              "      background-color: #E2EBFA;\n",
              "      box-shadow: 0px 1px 2px rgba(60, 64, 67, 0.3), 0px 1px 3px 1px rgba(60, 64, 67, 0.15);\n",
              "      fill: #174EA6;\n",
              "    }\n",
              "\n",
              "    [theme=dark] .colab-df-convert {\n",
              "      background-color: #3B4455;\n",
              "      fill: #D2E3FC;\n",
              "    }\n",
              "\n",
              "    [theme=dark] .colab-df-convert:hover {\n",
              "      background-color: #434B5C;\n",
              "      box-shadow: 0px 1px 3px 1px rgba(0, 0, 0, 0.15);\n",
              "      filter: drop-shadow(0px 1px 2px rgba(0, 0, 0, 0.3));\n",
              "      fill: #FFFFFF;\n",
              "    }\n",
              "  </style>\n",
              "\n",
              "      <script>\n",
              "        const buttonEl =\n",
              "          document.querySelector('#df-1f5fc848-3eac-4011-bdb7-f6e7859dfc85 button.colab-df-convert');\n",
              "        buttonEl.style.display =\n",
              "          google.colab.kernel.accessAllowed ? 'block' : 'none';\n",
              "\n",
              "        async function convertToInteractive(key) {\n",
              "          const element = document.querySelector('#df-1f5fc848-3eac-4011-bdb7-f6e7859dfc85');\n",
              "          const dataTable =\n",
              "            await google.colab.kernel.invokeFunction('convertToInteractive',\n",
              "                                                     [key], {});\n",
              "          if (!dataTable) return;\n",
              "\n",
              "          const docLinkHtml = 'Like what you see? Visit the ' +\n",
              "            '<a target=\"_blank\" href=https://colab.research.google.com/notebooks/data_table.ipynb>data table notebook</a>'\n",
              "            + ' to learn more about interactive tables.';\n",
              "          element.innerHTML = '';\n",
              "          dataTable['output_type'] = 'display_data';\n",
              "          await google.colab.output.renderOutput(dataTable, element);\n",
              "          const docLink = document.createElement('div');\n",
              "          docLink.innerHTML = docLinkHtml;\n",
              "          element.appendChild(docLink);\n",
              "        }\n",
              "      </script>\n",
              "    </div>\n",
              "  </div>\n",
              "  "
            ],
            "text/plain": [
              "    Kode_Kab_Kota    Kabupaten_Kota  ...  Jumlah_nakes  Kepadatan_Penduduk\n",
              "22           3277       Kota Cimahi  ...          1781               14474\n",
              "23           3274      Kota Cirebon  ...          1670                8921\n",
              "24           3276        Kota Depok  ...          4687               10267\n",
              "25           3272     Kota Sukabumi  ...          1410                7178\n",
              "26           3278  Kota Tasikmalaya  ...          1587                4173\n",
              "\n",
              "[5 rows x 9 columns]"
            ]
          },
          "metadata": {},
          "execution_count": 4
        }
      ]
    },
    {
      "cell_type": "code",
      "source": [
        "df.shape"
      ],
      "metadata": {
        "colab": {
          "base_uri": "https://localhost:8080/"
        },
        "id": "JDgz4CbL963H",
        "outputId": "5317492e-6d6e-400e-89f6-64f92bd8acb8"
      },
      "execution_count": 5,
      "outputs": [
        {
          "output_type": "execute_result",
          "data": {
            "text/plain": [
              "(27, 9)"
            ]
          },
          "metadata": {},
          "execution_count": 5
        }
      ]
    },
    {
      "cell_type": "code",
      "source": [
        "df.info()"
      ],
      "metadata": {
        "colab": {
          "base_uri": "https://localhost:8080/"
        },
        "id": "X29RVrLct340",
        "outputId": "2a219d68-ed35-451a-cdb1-4bc4e7c01647"
      },
      "execution_count": 6,
      "outputs": [
        {
          "output_type": "stream",
          "name": "stdout",
          "text": [
            "<class 'pandas.core.frame.DataFrame'>\n",
            "RangeIndex: 27 entries, 0 to 26\n",
            "Data columns (total 9 columns):\n",
            " #   Column                Non-Null Count  Dtype \n",
            "---  ------                --------------  ----- \n",
            " 0   Kode_Kab_Kota         27 non-null     int64 \n",
            " 1   Kabupaten_Kota        27 non-null     object\n",
            " 2   Konfirmasi_total      27 non-null     int64 \n",
            " 3   Konfirmasi_sembuh     27 non-null     int64 \n",
            " 4   Konfirmasi_meninggal  27 non-null     int64 \n",
            " 5   Konfirmasi_aktif      27 non-null     int64 \n",
            " 6   Jumlah_RS_Rujukan     27 non-null     int64 \n",
            " 7   Jumlah_nakes          27 non-null     int64 \n",
            " 8   Kepadatan_Penduduk    27 non-null     int64 \n",
            "dtypes: int64(8), object(1)\n",
            "memory usage: 2.0+ KB\n"
          ]
        }
      ]
    },
    {
      "cell_type": "code",
      "source": [
        "#Drop Variables \"Kode_Kab_Kota\"\n",
        "\n",
        "df2 = df.drop([\"Kode_Kab_Kota\"], axis = 1)"
      ],
      "metadata": {
        "id": "9ASgP3Twt38-"
      },
      "execution_count": 7,
      "outputs": []
    },
    {
      "cell_type": "code",
      "source": [
        "df.head()"
      ],
      "metadata": {
        "colab": {
          "base_uri": "https://localhost:8080/",
          "height": 206
        },
        "id": "4cGB4xsK-Ewv",
        "outputId": "d1655d80-bc06-47e2-a66b-6316d5c8f442"
      },
      "execution_count": 8,
      "outputs": [
        {
          "output_type": "execute_result",
          "data": {
            "text/html": [
              "\n",
              "  <div id=\"df-0f454784-4a84-4c30-a6c2-20ad19a9b11e\">\n",
              "    <div class=\"colab-df-container\">\n",
              "      <div>\n",
              "<style scoped>\n",
              "    .dataframe tbody tr th:only-of-type {\n",
              "        vertical-align: middle;\n",
              "    }\n",
              "\n",
              "    .dataframe tbody tr th {\n",
              "        vertical-align: top;\n",
              "    }\n",
              "\n",
              "    .dataframe thead th {\n",
              "        text-align: right;\n",
              "    }\n",
              "</style>\n",
              "<table border=\"1\" class=\"dataframe\">\n",
              "  <thead>\n",
              "    <tr style=\"text-align: right;\">\n",
              "      <th></th>\n",
              "      <th>Kode_Kab_Kota</th>\n",
              "      <th>Kabupaten_Kota</th>\n",
              "      <th>Konfirmasi_total</th>\n",
              "      <th>Konfirmasi_sembuh</th>\n",
              "      <th>Konfirmasi_meninggal</th>\n",
              "      <th>Konfirmasi_aktif</th>\n",
              "      <th>Jumlah_RS_Rujukan</th>\n",
              "      <th>Jumlah_nakes</th>\n",
              "      <th>Kepadatan_Penduduk</th>\n",
              "    </tr>\n",
              "  </thead>\n",
              "  <tbody>\n",
              "    <tr>\n",
              "      <th>0</th>\n",
              "      <td>3204</td>\n",
              "      <td>Kabupaten Bandung</td>\n",
              "      <td>33900</td>\n",
              "      <td>33052</td>\n",
              "      <td>608</td>\n",
              "      <td>240</td>\n",
              "      <td>3</td>\n",
              "      <td>2538</td>\n",
              "      <td>2050</td>\n",
              "    </tr>\n",
              "    <tr>\n",
              "      <th>1</th>\n",
              "      <td>3217</td>\n",
              "      <td>Kabupaten Bandung Barat</td>\n",
              "      <td>19155</td>\n",
              "      <td>18787</td>\n",
              "      <td>265</td>\n",
              "      <td>103</td>\n",
              "      <td>2</td>\n",
              "      <td>1401</td>\n",
              "      <td>1370</td>\n",
              "    </tr>\n",
              "    <tr>\n",
              "      <th>2</th>\n",
              "      <td>3216</td>\n",
              "      <td>Kabupaten Bekasi</td>\n",
              "      <td>51201</td>\n",
              "      <td>50561</td>\n",
              "      <td>539</td>\n",
              "      <td>101</td>\n",
              "      <td>8</td>\n",
              "      <td>4538</td>\n",
              "      <td>2541</td>\n",
              "    </tr>\n",
              "    <tr>\n",
              "      <th>3</th>\n",
              "      <td>3201</td>\n",
              "      <td>Kabupaten Bogor</td>\n",
              "      <td>47782</td>\n",
              "      <td>47512</td>\n",
              "      <td>206</td>\n",
              "      <td>64</td>\n",
              "      <td>9</td>\n",
              "      <td>5372</td>\n",
              "      <td>2002</td>\n",
              "    </tr>\n",
              "    <tr>\n",
              "      <th>4</th>\n",
              "      <td>3207</td>\n",
              "      <td>Kabupaten Ciamis</td>\n",
              "      <td>15140</td>\n",
              "      <td>14717</td>\n",
              "      <td>311</td>\n",
              "      <td>112</td>\n",
              "      <td>1</td>\n",
              "      <td>1337</td>\n",
              "      <td>869</td>\n",
              "    </tr>\n",
              "  </tbody>\n",
              "</table>\n",
              "</div>\n",
              "      <button class=\"colab-df-convert\" onclick=\"convertToInteractive('df-0f454784-4a84-4c30-a6c2-20ad19a9b11e')\"\n",
              "              title=\"Convert this dataframe to an interactive table.\"\n",
              "              style=\"display:none;\">\n",
              "        \n",
              "  <svg xmlns=\"http://www.w3.org/2000/svg\" height=\"24px\"viewBox=\"0 0 24 24\"\n",
              "       width=\"24px\">\n",
              "    <path d=\"M0 0h24v24H0V0z\" fill=\"none\"/>\n",
              "    <path d=\"M18.56 5.44l.94 2.06.94-2.06 2.06-.94-2.06-.94-.94-2.06-.94 2.06-2.06.94zm-11 1L8.5 8.5l.94-2.06 2.06-.94-2.06-.94L8.5 2.5l-.94 2.06-2.06.94zm10 10l.94 2.06.94-2.06 2.06-.94-2.06-.94-.94-2.06-.94 2.06-2.06.94z\"/><path d=\"M17.41 7.96l-1.37-1.37c-.4-.4-.92-.59-1.43-.59-.52 0-1.04.2-1.43.59L10.3 9.45l-7.72 7.72c-.78.78-.78 2.05 0 2.83L4 21.41c.39.39.9.59 1.41.59.51 0 1.02-.2 1.41-.59l7.78-7.78 2.81-2.81c.8-.78.8-2.07 0-2.86zM5.41 20L4 18.59l7.72-7.72 1.47 1.35L5.41 20z\"/>\n",
              "  </svg>\n",
              "      </button>\n",
              "      \n",
              "  <style>\n",
              "    .colab-df-container {\n",
              "      display:flex;\n",
              "      flex-wrap:wrap;\n",
              "      gap: 12px;\n",
              "    }\n",
              "\n",
              "    .colab-df-convert {\n",
              "      background-color: #E8F0FE;\n",
              "      border: none;\n",
              "      border-radius: 50%;\n",
              "      cursor: pointer;\n",
              "      display: none;\n",
              "      fill: #1967D2;\n",
              "      height: 32px;\n",
              "      padding: 0 0 0 0;\n",
              "      width: 32px;\n",
              "    }\n",
              "\n",
              "    .colab-df-convert:hover {\n",
              "      background-color: #E2EBFA;\n",
              "      box-shadow: 0px 1px 2px rgba(60, 64, 67, 0.3), 0px 1px 3px 1px rgba(60, 64, 67, 0.15);\n",
              "      fill: #174EA6;\n",
              "    }\n",
              "\n",
              "    [theme=dark] .colab-df-convert {\n",
              "      background-color: #3B4455;\n",
              "      fill: #D2E3FC;\n",
              "    }\n",
              "\n",
              "    [theme=dark] .colab-df-convert:hover {\n",
              "      background-color: #434B5C;\n",
              "      box-shadow: 0px 1px 3px 1px rgba(0, 0, 0, 0.15);\n",
              "      filter: drop-shadow(0px 1px 2px rgba(0, 0, 0, 0.3));\n",
              "      fill: #FFFFFF;\n",
              "    }\n",
              "  </style>\n",
              "\n",
              "      <script>\n",
              "        const buttonEl =\n",
              "          document.querySelector('#df-0f454784-4a84-4c30-a6c2-20ad19a9b11e button.colab-df-convert');\n",
              "        buttonEl.style.display =\n",
              "          google.colab.kernel.accessAllowed ? 'block' : 'none';\n",
              "\n",
              "        async function convertToInteractive(key) {\n",
              "          const element = document.querySelector('#df-0f454784-4a84-4c30-a6c2-20ad19a9b11e');\n",
              "          const dataTable =\n",
              "            await google.colab.kernel.invokeFunction('convertToInteractive',\n",
              "                                                     [key], {});\n",
              "          if (!dataTable) return;\n",
              "\n",
              "          const docLinkHtml = 'Like what you see? Visit the ' +\n",
              "            '<a target=\"_blank\" href=https://colab.research.google.com/notebooks/data_table.ipynb>data table notebook</a>'\n",
              "            + ' to learn more about interactive tables.';\n",
              "          element.innerHTML = '';\n",
              "          dataTable['output_type'] = 'display_data';\n",
              "          await google.colab.output.renderOutput(dataTable, element);\n",
              "          const docLink = document.createElement('div');\n",
              "          docLink.innerHTML = docLinkHtml;\n",
              "          element.appendChild(docLink);\n",
              "        }\n",
              "      </script>\n",
              "    </div>\n",
              "  </div>\n",
              "  "
            ],
            "text/plain": [
              "   Kode_Kab_Kota           Kabupaten_Kota  ...  Jumlah_nakes  Kepadatan_Penduduk\n",
              "0           3204        Kabupaten Bandung  ...          2538                2050\n",
              "1           3217  Kabupaten Bandung Barat  ...          1401                1370\n",
              "2           3216         Kabupaten Bekasi  ...          4538                2541\n",
              "3           3201          Kabupaten Bogor  ...          5372                2002\n",
              "4           3207         Kabupaten Ciamis  ...          1337                 869\n",
              "\n",
              "[5 rows x 9 columns]"
            ]
          },
          "metadata": {},
          "execution_count": 8
        }
      ]
    },
    {
      "cell_type": "markdown",
      "source": [
        "## **Data Pre - Processing**"
      ],
      "metadata": {
        "id": "v-FJsTrC-lNv"
      }
    },
    {
      "cell_type": "markdown",
      "source": [
        "###**Check Missing Value**"
      ],
      "metadata": {
        "id": "A4AI36YD-_JJ"
      }
    },
    {
      "cell_type": "code",
      "source": [
        "df.isnull().sum()"
      ],
      "metadata": {
        "colab": {
          "base_uri": "https://localhost:8080/"
        },
        "id": "-I-NJi7R-uez",
        "outputId": "c9a356d4-07c9-44dd-f87a-50356bc594da"
      },
      "execution_count": 9,
      "outputs": [
        {
          "output_type": "execute_result",
          "data": {
            "text/plain": [
              "Kode_Kab_Kota           0\n",
              "Kabupaten_Kota          0\n",
              "Konfirmasi_total        0\n",
              "Konfirmasi_sembuh       0\n",
              "Konfirmasi_meninggal    0\n",
              "Konfirmasi_aktif        0\n",
              "Jumlah_RS_Rujukan       0\n",
              "Jumlah_nakes            0\n",
              "Kepadatan_Penduduk      0\n",
              "dtype: int64"
            ]
          },
          "metadata": {},
          "execution_count": 9
        }
      ]
    },
    {
      "cell_type": "markdown",
      "source": [
        "\n",
        "\n",
        "### **Check Duplicate Data**"
      ],
      "metadata": {
        "id": "Z7nrlbJd_GIz"
      }
    },
    {
      "cell_type": "code",
      "source": [
        "df2.shape"
      ],
      "metadata": {
        "colab": {
          "base_uri": "https://localhost:8080/"
        },
        "id": "TW-tn8_NxTLn",
        "outputId": "bcd19bee-0485-4330-d46b-5eb52ee0eb92"
      },
      "execution_count": 10,
      "outputs": [
        {
          "output_type": "execute_result",
          "data": {
            "text/plain": [
              "(27, 8)"
            ]
          },
          "metadata": {},
          "execution_count": 10
        }
      ]
    },
    {
      "cell_type": "code",
      "source": [
        "df2.drop_duplicates(inplace=True)"
      ],
      "metadata": {
        "id": "nimg5PR9-648"
      },
      "execution_count": 11,
      "outputs": []
    },
    {
      "cell_type": "code",
      "source": [
        "df2.shape"
      ],
      "metadata": {
        "colab": {
          "base_uri": "https://localhost:8080/"
        },
        "id": "PTH6xRjhxUZV",
        "outputId": "8aae0468-7a5a-4be3-9af4-32a2b78f8bfb"
      },
      "execution_count": 12,
      "outputs": [
        {
          "output_type": "execute_result",
          "data": {
            "text/plain": [
              "(27, 8)"
            ]
          },
          "metadata": {},
          "execution_count": 12
        }
      ]
    },
    {
      "cell_type": "markdown",
      "source": [
        "### **Check Outlier**"
      ],
      "metadata": {
        "id": "IfiDYCle_KMK"
      }
    },
    {
      "cell_type": "code",
      "source": [
        "fig, axs = plt.subplots(2,3, figsize = (15,10))\n",
        "plt1 = sns.boxplot(df2['Konfirmasi_total'], ax = axs[0,0])\n",
        "plt2 = sns.boxplot(df2['Konfirmasi_sembuh'], ax = axs[0,1])\n",
        "plt3 = sns.boxplot(df2['Konfirmasi_meninggal'], ax = axs[0,2])\n",
        "plt4 = sns.boxplot(df2['Konfirmasi_aktif'], ax = axs[1,0])\n",
        "plt5 = sns.boxplot(df2['Jumlah_RS_Rujukan'], ax = axs[1,1])\n",
        "plt6 = sns.boxplot(df2['Jumlah_nakes'], ax = axs[1,2])\n",
        "\n",
        "\n",
        "plt.tight_layout()\n",
        "plt.show()"
      ],
      "metadata": {
        "colab": {
          "base_uri": "https://localhost:8080/",
          "height": 958
        },
        "id": "Tya53cDyIzg3",
        "outputId": "24802fee-a35a-4ce2-edc8-fe6a1bae853c"
      },
      "execution_count": 13,
      "outputs": [
        {
          "output_type": "stream",
          "name": "stderr",
          "text": [
            "/usr/local/lib/python3.7/dist-packages/seaborn/_decorators.py:43: FutureWarning: Pass the following variable as a keyword arg: x. From version 0.12, the only valid positional argument will be `data`, and passing other arguments without an explicit keyword will result in an error or misinterpretation.\n",
            "  FutureWarning\n",
            "/usr/local/lib/python3.7/dist-packages/seaborn/_decorators.py:43: FutureWarning: Pass the following variable as a keyword arg: x. From version 0.12, the only valid positional argument will be `data`, and passing other arguments without an explicit keyword will result in an error or misinterpretation.\n",
            "  FutureWarning\n",
            "/usr/local/lib/python3.7/dist-packages/seaborn/_decorators.py:43: FutureWarning: Pass the following variable as a keyword arg: x. From version 0.12, the only valid positional argument will be `data`, and passing other arguments without an explicit keyword will result in an error or misinterpretation.\n",
            "  FutureWarning\n",
            "/usr/local/lib/python3.7/dist-packages/seaborn/_decorators.py:43: FutureWarning: Pass the following variable as a keyword arg: x. From version 0.12, the only valid positional argument will be `data`, and passing other arguments without an explicit keyword will result in an error or misinterpretation.\n",
            "  FutureWarning\n",
            "/usr/local/lib/python3.7/dist-packages/seaborn/_decorators.py:43: FutureWarning: Pass the following variable as a keyword arg: x. From version 0.12, the only valid positional argument will be `data`, and passing other arguments without an explicit keyword will result in an error or misinterpretation.\n",
            "  FutureWarning\n",
            "/usr/local/lib/python3.7/dist-packages/seaborn/_decorators.py:43: FutureWarning: Pass the following variable as a keyword arg: x. From version 0.12, the only valid positional argument will be `data`, and passing other arguments without an explicit keyword will result in an error or misinterpretation.\n",
            "  FutureWarning\n"
          ]
        },
        {
          "output_type": "display_data",
          "data": {
            "image/png": "[encoded data removed]",
            "text/plain": [
              "<Figure size 1080x720 with 6 Axes>"
            ]
          },
          "metadata": {
            "needs_background": "light"
          }
        }
      ]
    },
    {
      "cell_type": "code",
      "source": [
        "plt7 = sns.boxplot(df2['Kepadatan_Penduduk'])"
      ],
      "metadata": {
        "colab": {
          "base_uri": "https://localhost:8080/",
          "height": 334
        },
        "id": "YLGMNKv1JYig",
        "outputId": "12b27a53-9ac1-4ef3-8138-1b3d27aa8d70"
      },
      "execution_count": 14,
      "outputs": [
        {
          "output_type": "stream",
          "name": "stderr",
          "text": [
            "/usr/local/lib/python3.7/dist-packages/seaborn/_decorators.py:43: FutureWarning: Pass the following variable as a keyword arg: x. From version 0.12, the only valid positional argument will be `data`, and passing other arguments without an explicit keyword will result in an error or misinterpretation.\n",
            "  FutureWarning\n"
          ]
        },
        {
          "output_type": "display_data",
          "data": {
            "image/png": "[encoded data removed]",
            "text/plain": [
              "<Figure size 432x288 with 1 Axes>"
            ]
          },
          "metadata": {
            "needs_background": "light"
          }
        }
      ]
    },
    {
      "cell_type": "markdown",
      "source": [
        "## **Deskriptif Data**"
      ],
      "metadata": {
        "id": "YbG5m_G8-cw1"
      }
    },
    {
      "cell_type": "code",
      "source": [
        "fig = plt.figure(figsize = (10, 5))\n",
        "\n",
        "plt.barh(df2.sort_values('Konfirmasi_total')['Kabupaten_Kota'], df2.sort_values('Konfirmasi_total')['Konfirmasi_total'],color='indianred')\n",
        "plt.title('Jumlah Konfirmasi Total Covid-19 Berdasarkan Kabupaten/Kota di Jawa Barat')\n",
        "plt.xlabel('Konfirmasi Total')\n",
        "plt.ylabel('Kabupaten/Kota')\n",
        "plt.show()"
      ],
      "metadata": {
        "colab": {
          "base_uri": "https://localhost:8080/",
          "height": 350
        },
        "id": "Uol6wBdG-hFu",
        "outputId": "6f2c6be4-8d0c-4b31-dd6b-c9898013be62"
      },
      "execution_count": 15,
      "outputs": [
        {
          "output_type": "display_data",
          "data": {
            "image/png": "[encoded data removed]",
            "text/plain": [
              "<Figure size 720x360 with 1 Axes>"
            ]
          },
          "metadata": {
            "needs_background": "light"
          }
        }
      ]
    },
    {
      "cell_type": "code",
      "source": [
        "fig = plt.figure(figsize = (10, 5))\n",
        "\n",
        "plt.barh(df2.sort_values('Konfirmasi_sembuh')['Kabupaten_Kota'], df2.sort_values('Konfirmasi_sembuh')['Konfirmasi_sembuh'],color='seagreen')\n",
        "plt.title('Jumlah Konfirmasi Sembuh Covid-19 Berdasarkan Kabupaten/Kota di Jawa Barat')\n",
        "plt.xlabel('Konfirmasi Sembuh')\n",
        "plt.ylabel('Kabupaten/Kota')\n",
        "plt.show()"
      ],
      "metadata": {
        "colab": {
          "base_uri": "https://localhost:8080/",
          "height": 350
        },
        "id": "cnTlpOFc_fYD",
        "outputId": "223ecf5b-c0e0-4f9a-d24e-bbe7ab6dcb1d"
      },
      "execution_count": 16,
      "outputs": [
        {
          "output_type": "display_data",
          "data": {
            "image/png": "[encoded data removed]",
            "text/plain": [
              "<Figure size 720x360 with 1 Axes>"
            ]
          },
          "metadata": {
            "needs_background": "light"
          }
        }
      ]
    },
    {
      "cell_type": "code",
      "source": [
        "fig = plt.figure(figsize = (10, 5))\n",
        "\n",
        "plt.barh(df2.sort_values('Konfirmasi_meninggal')['Kabupaten_Kota'], df2.sort_values('Konfirmasi_meninggal')['Konfirmasi_meninggal'],color='steelblue')\n",
        "plt.title('Jumlah Konfirmasi Meninggal Covid-19 Berdasarkan Kabupaten/Kota di Jawa Barat')\n",
        "plt.xlabel('Konfirmasi Meninggal')\n",
        "plt.ylabel('Kabupaten/Kota')\n",
        "plt.show()"
      ],
      "metadata": {
        "colab": {
          "base_uri": "https://localhost:8080/",
          "height": 350
        },
        "id": "W2UTZPDf_n5u",
        "outputId": "a23c135f-129c-49a4-d657-029bb11d6237"
      },
      "execution_count": 17,
      "outputs": [
        {
          "output_type": "display_data",
          "data": {
            "image/png": "[encoded data removed]",
            "text/plain": [
              "<Figure size 720x360 with 1 Axes>"
            ]
          },
          "metadata": {
            "needs_background": "light"
          }
        }
      ]
    },
    {
      "cell_type": "code",
      "source": [
        "fig = plt.figure(figsize = (10, 5))\n",
        "\n",
        "plt.barh(df2.sort_values('Konfirmasi_aktif')['Kabupaten_Kota'], df2.sort_values('Konfirmasi_aktif')['Konfirmasi_aktif'],color='goldenrod')\n",
        "plt.title('Jumlah Konfirmasi Aktif Covid-19 Berdasarkan Kabupaten/Kota di Jawa Barat')\n",
        "plt.xlabel('Konfirmasi Aktif')\n",
        "plt.ylabel('Kabupaten/Kota')\n",
        "plt.show()"
      ],
      "metadata": {
        "colab": {
          "base_uri": "https://localhost:8080/",
          "height": 350
        },
        "id": "WzO2fMGi_wxi",
        "outputId": "1a529783-e9ef-44a4-e790-d8d68577d860"
      },
      "execution_count": 18,
      "outputs": [
        {
          "output_type": "display_data",
          "data": {
            "image/png": "[encoded data removed]",
            "text/plain": [
              "<Figure size 720x360 with 1 Axes>"
            ]
          },
          "metadata": {
            "needs_background": "light"
          }
        }
      ]
    },
    {
      "cell_type": "code",
      "source": [
        "fig = plt.figure(figsize = (10, 5))\n",
        "\n",
        "plt.barh(df2.sort_values('Jumlah_RS_Rujukan')['Kabupaten_Kota'], df2.sort_values('Jumlah_RS_Rujukan')['Jumlah_RS_Rujukan'],color='teal')\n",
        "plt.title('Jumlah Rumah Sakit Rujukan Covid-19 Berdasarkan Kabupaten/Kota di Jawa Barat')\n",
        "plt.xlabel('Jumlah Rumah Sakit Rujukan')\n",
        "plt.ylabel('Kabupaten/Kota')\n",
        "plt.show()"
      ],
      "metadata": {
        "colab": {
          "base_uri": "https://localhost:8080/",
          "height": 350
        },
        "id": "7I42kSfn_4RC",
        "outputId": "81166e85-70c8-42de-c059-589f3018d7fd"
      },
      "execution_count": 19,
      "outputs": [
        {
          "output_type": "display_data",
          "data": {
            "image/png": "[encoded data removed]",
            "text/plain": [
              "<Figure size 720x360 with 1 Axes>"
            ]
          },
          "metadata": {
            "needs_background": "light"
          }
        }
      ]
    },
    {
      "cell_type": "code",
      "source": [
        "fig = plt.figure(figsize = (10, 5))\n",
        "\n",
        "plt.barh(df2.sort_values('Jumlah_nakes')['Kabupaten_Kota'], df2.sort_values('Jumlah_nakes')['Jumlah_nakes'],color='darkkhaki')\n",
        "plt.title('Jumlah Tenaga Kesehatan Berdasarkan Kabupaten/Kota di Jawa Barat')\n",
        "plt.xlabel('Tenaga Kesehatan')\n",
        "plt.ylabel('Kabupaten/Kota')\n",
        "plt.show()"
      ],
      "metadata": {
        "colab": {
          "base_uri": "https://localhost:8080/",
          "height": 350
        },
        "id": "NxVf1tQ_AEYQ",
        "outputId": "f1cc73f2-f8cd-4a84-c4c8-db02530d7cee"
      },
      "execution_count": 20,
      "outputs": [
        {
          "output_type": "display_data",
          "data": {
            "image/png": "[encoded data removed]",
            "text/plain": [
              "<Figure size 720x360 with 1 Axes>"
            ]
          },
          "metadata": {
            "needs_background": "light"
          }
        }
      ]
    },
    {
      "cell_type": "code",
      "source": [
        "fig = plt.figure(figsize = (10, 5))\n",
        "\n",
        "plt.barh(df2.sort_values('Kepadatan_Penduduk')['Kabupaten_Kota'], df2.sort_values('Kepadatan_Penduduk')['Kepadatan_Penduduk'],color='salmon')\n",
        "plt.title('Kepadatan Penduduk Berdasarkan Kabupaten/Kota di Jawa Barat')\n",
        "plt.xlabel('Kepadatan Penduduk')\n",
        "plt.ylabel('Kabupaten/Kota')\n",
        "plt.show()"
      ],
      "metadata": {
        "colab": {
          "base_uri": "https://localhost:8080/",
          "height": 350
        },
        "id": "2m7t6y2GAM3A",
        "outputId": "f36bc808-4f77-4bcc-d0de-305083b4728d"
      },
      "execution_count": 21,
      "outputs": [
        {
          "output_type": "display_data",
          "data": {
            "image/png": "[encoded data removed]",
            "text/plain": [
              "<Figure size 720x360 with 1 Axes>"
            ]
          },
          "metadata": {
            "needs_background": "light"
          }
        }
      ]
    },
    {
      "cell_type": "code",
      "source": [
        "import seaborn as sns\n",
        "sns.lmplot('Konfirmasi_total', 'Konfirmasi_meninggal', data=df2, hue='Kabupaten_Kota', fit_reg=False)\n",
        "\n",
        "plt.show()"
      ],
      "metadata": {
        "colab": {
          "base_uri": "https://localhost:8080/",
          "height": 510
        },
        "id": "9Kb6RNihAcvn",
        "outputId": "c1c73bad-f818-47b6-db49-71964cb61447"
      },
      "execution_count": 22,
      "outputs": [
        {
          "output_type": "stream",
          "name": "stderr",
          "text": [
            "/usr/local/lib/python3.7/dist-packages/seaborn/_decorators.py:43: FutureWarning: Pass the following variables as keyword args: x, y. From version 0.12, the only valid positional argument will be `data`, and passing other arguments without an explicit keyword will result in an error or misinterpretation.\n",
            "  FutureWarning\n"
          ]
        },
        {
          "output_type": "display_data",
          "data": {
            "image/png": "[encoded data removed]",
            "text/plain": [
              "<Figure size 528.125x360 with 1 Axes>"
            ]
          },
          "metadata": {
            "needs_background": "light"
          }
        }
      ]
    },
    {
      "cell_type": "code",
      "source": [
        "sns.lmplot('Konfirmasi_total', 'Konfirmasi_sembuh', data=df2, hue='Kabupaten_Kota', fit_reg=False)\n",
        "\n",
        "plt.show()"
      ],
      "metadata": {
        "colab": {
          "base_uri": "https://localhost:8080/",
          "height": 510
        },
        "id": "yrDHAMeVAhwa",
        "outputId": "b17219ef-11bf-4636-ee18-0e66be68583c"
      },
      "execution_count": 23,
      "outputs": [
        {
          "output_type": "stream",
          "name": "stderr",
          "text": [
            "/usr/local/lib/python3.7/dist-packages/seaborn/_decorators.py:43: FutureWarning: Pass the following variables as keyword args: x, y. From version 0.12, the only valid positional argument will be `data`, and passing other arguments without an explicit keyword will result in an error or misinterpretation.\n",
            "  FutureWarning\n"
          ]
        },
        {
          "output_type": "display_data",
          "data": {
            "image/png": "[encoded data removed]",
            "text/plain": [
              "<Figure size 528.125x360 with 1 Axes>"
            ]
          },
          "metadata": {
            "needs_background": "light"
          }
        }
      ]
    },
    {
      "cell_type": "code",
      "source": [
        "sns.lmplot('Konfirmasi_total', 'Konfirmasi_aktif', data=df2, hue='Kabupaten_Kota', fit_reg=False)\n",
        "\n",
        "plt.show()"
      ],
      "metadata": {
        "colab": {
          "base_uri": "https://localhost:8080/",
          "height": 510
        },
        "id": "HJVetAztAqm8",
        "outputId": "7f9d7cfe-e4b0-45aa-e601-d711b0009990"
      },
      "execution_count": 24,
      "outputs": [
        {
          "output_type": "stream",
          "name": "stderr",
          "text": [
            "/usr/local/lib/python3.7/dist-packages/seaborn/_decorators.py:43: FutureWarning: Pass the following variables as keyword args: x, y. From version 0.12, the only valid positional argument will be `data`, and passing other arguments without an explicit keyword will result in an error or misinterpretation.\n",
            "  FutureWarning\n"
          ]
        },
        {
          "output_type": "display_data",
          "data": {
            "image/png": "[encoded data removed]",
            "text/plain": [
              "<Figure size 528.125x360 with 1 Axes>"
            ]
          },
          "metadata": {
            "needs_background": "light"
          }
        }
      ]
    },
    {
      "cell_type": "markdown",
      "source": [
        "## **Standarisasi Data**"
      ],
      "metadata": {
        "id": "zi8WK4XZufaA"
      }
    },
    {
      "cell_type": "code",
      "source": [
        "# Import the StandardScaler()\n",
        "from sklearn.preprocessing import StandardScaler\n",
        "\n",
        "# Create a scaling object\n",
        "scaler = StandardScaler()\n",
        "\n",
        "# Create a list of the variables that you need to scale\n",
        "X = ['Konfirmasi_total','Konfirmasi_sembuh','Konfirmasi_meninggal','Konfirmasi_aktif','Jumlah_nakes','Jumlah_RS_Rujukan','Kepadatan_Penduduk']\n",
        "\n",
        "# Scale these variables using 'fit_transform'\n",
        "df[X] = scaler.fit_transform(df[X])"
      ],
      "metadata": {
        "id": "xQTlRPpQuX7P"
      },
      "execution_count": 25,
      "outputs": []
    },
    {
      "cell_type": "code",
      "source": [
        "df2.head()"
      ],
      "metadata": {
        "colab": {
          "base_uri": "https://localhost:8080/",
          "height": 206
        },
        "id": "OzqAz3Tivj6e",
        "outputId": "5f6ed7af-166c-4511-fd98-5cca669f85c4"
      },
      "execution_count": 26,
      "outputs": [
        {
          "output_type": "execute_result",
          "data": {
            "text/html": [
              "\n",
              "  <div id=\"df-d68ca665-1c77-49d7-b65f-a8d3ab8b42ea\">\n",
              "    <div class=\"colab-df-container\">\n",
              "      <div>\n",
              "<style scoped>\n",
              "    .dataframe tbody tr th:only-of-type {\n",
              "        vertical-align: middle;\n",
              "    }\n",
              "\n",
              "    .dataframe tbody tr th {\n",
              "        vertical-align: top;\n",
              "    }\n",
              "\n",
              "    .dataframe thead th {\n",
              "        text-align: right;\n",
              "    }\n",
              "</style>\n",
              "<table border=\"1\" class=\"dataframe\">\n",
              "  <thead>\n",
              "    <tr style=\"text-align: right;\">\n",
              "      <th></th>\n",
              "      <th>Kabupaten_Kota</th>\n",
              "      <th>Konfirmasi_total</th>\n",
              "      <th>Konfirmasi_sembuh</th>\n",
              "      <th>Konfirmasi_meninggal</th>\n",
              "      <th>Konfirmasi_aktif</th>\n",
              "      <th>Jumlah_RS_Rujukan</th>\n",
              "      <th>Jumlah_nakes</th>\n",
              "      <th>Kepadatan_Penduduk</th>\n",
              "    </tr>\n",
              "  </thead>\n",
              "  <tbody>\n",
              "    <tr>\n",
              "      <th>0</th>\n",
              "      <td>Kabupaten Bandung</td>\n",
              "      <td>33900</td>\n",
              "      <td>33052</td>\n",
              "      <td>608</td>\n",
              "      <td>240</td>\n",
              "      <td>3</td>\n",
              "      <td>2538</td>\n",
              "      <td>2050</td>\n",
              "    </tr>\n",
              "    <tr>\n",
              "      <th>1</th>\n",
              "      <td>Kabupaten Bandung Barat</td>\n",
              "      <td>19155</td>\n",
              "      <td>18787</td>\n",
              "      <td>265</td>\n",
              "      <td>103</td>\n",
              "      <td>2</td>\n",
              "      <td>1401</td>\n",
              "      <td>1370</td>\n",
              "    </tr>\n",
              "    <tr>\n",
              "      <th>2</th>\n",
              "      <td>Kabupaten Bekasi</td>\n",
              "      <td>51201</td>\n",
              "      <td>50561</td>\n",
              "      <td>539</td>\n",
              "      <td>101</td>\n",
              "      <td>8</td>\n",
              "      <td>4538</td>\n",
              "      <td>2541</td>\n",
              "    </tr>\n",
              "    <tr>\n",
              "      <th>3</th>\n",
              "      <td>Kabupaten Bogor</td>\n",
              "      <td>47782</td>\n",
              "      <td>47512</td>\n",
              "      <td>206</td>\n",
              "      <td>64</td>\n",
              "      <td>9</td>\n",
              "      <td>5372</td>\n",
              "      <td>2002</td>\n",
              "    </tr>\n",
              "    <tr>\n",
              "      <th>4</th>\n",
              "      <td>Kabupaten Ciamis</td>\n",
              "      <td>15140</td>\n",
              "      <td>14717</td>\n",
              "      <td>311</td>\n",
              "      <td>112</td>\n",
              "      <td>1</td>\n",
              "      <td>1337</td>\n",
              "      <td>869</td>\n",
              "    </tr>\n",
              "  </tbody>\n",
              "</table>\n",
              "</div>\n",
              "      <button class=\"colab-df-convert\" onclick=\"convertToInteractive('df-d68ca665-1c77-49d7-b65f-a8d3ab8b42ea')\"\n",
              "              title=\"Convert this dataframe to an interactive table.\"\n",
              "              style=\"display:none;\">\n",
              "        \n",
              "  <svg xmlns=\"http://www.w3.org/2000/svg\" height=\"24px\"viewBox=\"0 0 24 24\"\n",
              "       width=\"24px\">\n",
              "    <path d=\"M0 0h24v24H0V0z\" fill=\"none\"/>\n",
              "    <path d=\"M18.56 5.44l.94 2.06.94-2.06 2.06-.94-2.06-.94-.94-2.06-.94 2.06-2.06.94zm-11 1L8.5 8.5l.94-2.06 2.06-.94-2.06-.94L8.5 2.5l-.94 2.06-2.06.94zm10 10l.94 2.06.94-2.06 2.06-.94-2.06-.94-.94-2.06-.94 2.06-2.06.94z\"/><path d=\"M17.41 7.96l-1.37-1.37c-.4-.4-.92-.59-1.43-.59-.52 0-1.04.2-1.43.59L10.3 9.45l-7.72 7.72c-.78.78-.78 2.05 0 2.83L4 21.41c.39.39.9.59 1.41.59.51 0 1.02-.2 1.41-.59l7.78-7.78 2.81-2.81c.8-.78.8-2.07 0-2.86zM5.41 20L4 18.59l7.72-7.72 1.47 1.35L5.41 20z\"/>\n",
              "  </svg>\n",
              "      </button>\n",
              "      \n",
              "  <style>\n",
              "    .colab-df-container {\n",
              "      display:flex;\n",
              "      flex-wrap:wrap;\n",
              "      gap: 12px;\n",
              "    }\n",
              "\n",
              "    .colab-df-convert {\n",
              "      background-color: #E8F0FE;\n",
              "      border: none;\n",
              "      border-radius: 50%;\n",
              "      cursor: pointer;\n",
              "      display: none;\n",
              "      fill: #1967D2;\n",
              "      height: 32px;\n",
              "      padding: 0 0 0 0;\n",
              "      width: 32px;\n",
              "    }\n",
              "\n",
              "    .colab-df-convert:hover {\n",
              "      background-color: #E2EBFA;\n",
              "      box-shadow: 0px 1px 2px rgba(60, 64, 67, 0.3), 0px 1px 3px 1px rgba(60, 64, 67, 0.15);\n",
              "      fill: #174EA6;\n",
              "    }\n",
              "\n",
              "    [theme=dark] .colab-df-convert {\n",
              "      background-color: #3B4455;\n",
              "      fill: #D2E3FC;\n",
              "    }\n",
              "\n",
              "    [theme=dark] .colab-df-convert:hover {\n",
              "      background-color: #434B5C;\n",
              "      box-shadow: 0px 1px 3px 1px rgba(0, 0, 0, 0.15);\n",
              "      filter: drop-shadow(0px 1px 2px rgba(0, 0, 0, 0.3));\n",
              "      fill: #FFFFFF;\n",
              "    }\n",
              "  </style>\n",
              "\n",
              "      <script>\n",
              "        const buttonEl =\n",
              "          document.querySelector('#df-d68ca665-1c77-49d7-b65f-a8d3ab8b42ea button.colab-df-convert');\n",
              "        buttonEl.style.display =\n",
              "          google.colab.kernel.accessAllowed ? 'block' : 'none';\n",
              "\n",
              "        async function convertToInteractive(key) {\n",
              "          const element = document.querySelector('#df-d68ca665-1c77-49d7-b65f-a8d3ab8b42ea');\n",
              "          const dataTable =\n",
              "            await google.colab.kernel.invokeFunction('convertToInteractive',\n",
              "                                                     [key], {});\n",
              "          if (!dataTable) return;\n",
              "\n",
              "          const docLinkHtml = 'Like what you see? Visit the ' +\n",
              "            '<a target=\"_blank\" href=https://colab.research.google.com/notebooks/data_table.ipynb>data table notebook</a>'\n",
              "            + ' to learn more about interactive tables.';\n",
              "          element.innerHTML = '';\n",
              "          dataTable['output_type'] = 'display_data';\n",
              "          await google.colab.output.renderOutput(dataTable, element);\n",
              "          const docLink = document.createElement('div');\n",
              "          docLink.innerHTML = docLinkHtml;\n",
              "          element.appendChild(docLink);\n",
              "        }\n",
              "      </script>\n",
              "    </div>\n",
              "  </div>\n",
              "  "
            ],
            "text/plain": [
              "            Kabupaten_Kota  Konfirmasi_total  ...  Jumlah_nakes  Kepadatan_Penduduk\n",
              "0        Kabupaten Bandung             33900  ...          2538                2050\n",
              "1  Kabupaten Bandung Barat             19155  ...          1401                1370\n",
              "2         Kabupaten Bekasi             51201  ...          4538                2541\n",
              "3          Kabupaten Bogor             47782  ...          5372                2002\n",
              "4         Kabupaten Ciamis             15140  ...          1337                 869\n",
              "\n",
              "[5 rows x 8 columns]"
            ]
          },
          "metadata": {},
          "execution_count": 26
        }
      ]
    },
    {
      "cell_type": "code",
      "source": [
        "df3 = df.drop([\"Kode_Kab_Kota\"], axis = 1)"
      ],
      "metadata": {
        "id": "AfnTe0LQ2une"
      },
      "execution_count": 27,
      "outputs": []
    },
    {
      "cell_type": "code",
      "source": [
        "df3.head()"
      ],
      "metadata": {
        "colab": {
          "base_uri": "https://localhost:8080/",
          "height": 206
        },
        "id": "SsSBimLyvmz_",
        "outputId": "dea70f01-bf3b-4274-c5d2-528278bf1ad1"
      },
      "execution_count": 28,
      "outputs": [
        {
          "output_type": "execute_result",
          "data": {
            "text/html": [
              "\n",
              "  <div id=\"df-173d349c-85d7-4b12-94e2-92b98ad3df58\">\n",
              "    <div class=\"colab-df-container\">\n",
              "      <div>\n",
              "<style scoped>\n",
              "    .dataframe tbody tr th:only-of-type {\n",
              "        vertical-align: middle;\n",
              "    }\n",
              "\n",
              "    .dataframe tbody tr th {\n",
              "        vertical-align: top;\n",
              "    }\n",
              "\n",
              "    .dataframe thead th {\n",
              "        text-align: right;\n",
              "    }\n",
              "</style>\n",
              "<table border=\"1\" class=\"dataframe\">\n",
              "  <thead>\n",
              "    <tr style=\"text-align: right;\">\n",
              "      <th></th>\n",
              "      <th>Kabupaten_Kota</th>\n",
              "      <th>Konfirmasi_total</th>\n",
              "      <th>Konfirmasi_sembuh</th>\n",
              "      <th>Konfirmasi_meninggal</th>\n",
              "      <th>Konfirmasi_aktif</th>\n",
              "      <th>Jumlah_RS_Rujukan</th>\n",
              "      <th>Jumlah_nakes</th>\n",
              "      <th>Kepadatan_Penduduk</th>\n",
              "    </tr>\n",
              "  </thead>\n",
              "  <tbody>\n",
              "    <tr>\n",
              "      <th>0</th>\n",
              "      <td>Kabupaten Bandung</td>\n",
              "      <td>0.317433</td>\n",
              "      <td>0.312743</td>\n",
              "      <td>0.133438</td>\n",
              "      <td>2.623859</td>\n",
              "      <td>-0.230748</td>\n",
              "      <td>-0.027690</td>\n",
              "      <td>-0.405263</td>\n",
              "    </tr>\n",
              "    <tr>\n",
              "      <th>1</th>\n",
              "      <td>Kabupaten Bandung Barat</td>\n",
              "      <td>-0.274237</td>\n",
              "      <td>-0.268430</td>\n",
              "      <td>-0.566716</td>\n",
              "      <td>0.497291</td>\n",
              "      <td>-0.490339</td>\n",
              "      <td>-0.561645</td>\n",
              "      <td>-0.557504</td>\n",
              "    </tr>\n",
              "    <tr>\n",
              "      <th>2</th>\n",
              "      <td>Kabupaten Bekasi</td>\n",
              "      <td>1.011667</td>\n",
              "      <td>1.026079</td>\n",
              "      <td>-0.007409</td>\n",
              "      <td>0.466247</td>\n",
              "      <td>1.067209</td>\n",
              "      <td>0.911545</td>\n",
              "      <td>-0.295336</td>\n",
              "    </tr>\n",
              "    <tr>\n",
              "      <th>3</th>\n",
              "      <td>Kabupaten Bogor</td>\n",
              "      <td>0.874474</td>\n",
              "      <td>0.901859</td>\n",
              "      <td>-0.687151</td>\n",
              "      <td>-0.108082</td>\n",
              "      <td>1.326800</td>\n",
              "      <td>1.303206</td>\n",
              "      <td>-0.416010</td>\n",
              "    </tr>\n",
              "    <tr>\n",
              "      <th>4</th>\n",
              "      <td>Kabupaten Ciamis</td>\n",
              "      <td>-0.435346</td>\n",
              "      <td>-0.434246</td>\n",
              "      <td>-0.472818</td>\n",
              "      <td>0.636993</td>\n",
              "      <td>-0.749931</td>\n",
              "      <td>-0.591701</td>\n",
              "      <td>-0.669670</td>\n",
              "    </tr>\n",
              "  </tbody>\n",
              "</table>\n",
              "</div>\n",
              "      <button class=\"colab-df-convert\" onclick=\"convertToInteractive('df-173d349c-85d7-4b12-94e2-92b98ad3df58')\"\n",
              "              title=\"Convert this dataframe to an interactive table.\"\n",
              "              style=\"display:none;\">\n",
              "        \n",
              "  <svg xmlns=\"http://www.w3.org/2000/svg\" height=\"24px\"viewBox=\"0 0 24 24\"\n",
              "       width=\"24px\">\n",
              "    <path d=\"M0 0h24v24H0V0z\" fill=\"none\"/>\n",
              "    <path d=\"M18.56 5.44l.94 2.06.94-2.06 2.06-.94-2.06-.94-.94-2.06-.94 2.06-2.06.94zm-11 1L8.5 8.5l.94-2.06 2.06-.94-2.06-.94L8.5 2.5l-.94 2.06-2.06.94zm10 10l.94 2.06.94-2.06 2.06-.94-2.06-.94-.94-2.06-.94 2.06-2.06.94z\"/><path d=\"M17.41 7.96l-1.37-1.37c-.4-.4-.92-.59-1.43-.59-.52 0-1.04.2-1.43.59L10.3 9.45l-7.72 7.72c-.78.78-.78 2.05 0 2.83L4 21.41c.39.39.9.59 1.41.59.51 0 1.02-.2 1.41-.59l7.78-7.78 2.81-2.81c.8-.78.8-2.07 0-2.86zM5.41 20L4 18.59l7.72-7.72 1.47 1.35L5.41 20z\"/>\n",
              "  </svg>\n",
              "      </button>\n",
              "      \n",
              "  <style>\n",
              "    .colab-df-container {\n",
              "      display:flex;\n",
              "      flex-wrap:wrap;\n",
              "      gap: 12px;\n",
              "    }\n",
              "\n",
              "    .colab-df-convert {\n",
              "      background-color: #E8F0FE;\n",
              "      border: none;\n",
              "      border-radius: 50%;\n",
              "      cursor: pointer;\n",
              "      display: none;\n",
              "      fill: #1967D2;\n",
              "      height: 32px;\n",
              "      padding: 0 0 0 0;\n",
              "      width: 32px;\n",
              "    }\n",
              "\n",
              "    .colab-df-convert:hover {\n",
              "      background-color: #E2EBFA;\n",
              "      box-shadow: 0px 1px 2px rgba(60, 64, 67, 0.3), 0px 1px 3px 1px rgba(60, 64, 67, 0.15);\n",
              "      fill: #174EA6;\n",
              "    }\n",
              "\n",
              "    [theme=dark] .colab-df-convert {\n",
              "      background-color: #3B4455;\n",
              "      fill: #D2E3FC;\n",
              "    }\n",
              "\n",
              "    [theme=dark] .colab-df-convert:hover {\n",
              "      background-color: #434B5C;\n",
              "      box-shadow: 0px 1px 3px 1px rgba(0, 0, 0, 0.15);\n",
              "      filter: drop-shadow(0px 1px 2px rgba(0, 0, 0, 0.3));\n",
              "      fill: #FFFFFF;\n",
              "    }\n",
              "  </style>\n",
              "\n",
              "      <script>\n",
              "        const buttonEl =\n",
              "          document.querySelector('#df-173d349c-85d7-4b12-94e2-92b98ad3df58 button.colab-df-convert');\n",
              "        buttonEl.style.display =\n",
              "          google.colab.kernel.accessAllowed ? 'block' : 'none';\n",
              "\n",
              "        async function convertToInteractive(key) {\n",
              "          const element = document.querySelector('#df-173d349c-85d7-4b12-94e2-92b98ad3df58');\n",
              "          const dataTable =\n",
              "            await google.colab.kernel.invokeFunction('convertToInteractive',\n",
              "                                                     [key], {});\n",
              "          if (!dataTable) return;\n",
              "\n",
              "          const docLinkHtml = 'Like what you see? Visit the ' +\n",
              "            '<a target=\"_blank\" href=https://colab.research.google.com/notebooks/data_table.ipynb>data table notebook</a>'\n",
              "            + ' to learn more about interactive tables.';\n",
              "          element.innerHTML = '';\n",
              "          dataTable['output_type'] = 'display_data';\n",
              "          await google.colab.output.renderOutput(dataTable, element);\n",
              "          const docLink = document.createElement('div');\n",
              "          docLink.innerHTML = docLinkHtml;\n",
              "          element.appendChild(docLink);\n",
              "        }\n",
              "      </script>\n",
              "    </div>\n",
              "  </div>\n",
              "  "
            ],
            "text/plain": [
              "            Kabupaten_Kota  Konfirmasi_total  ...  Jumlah_nakes  Kepadatan_Penduduk\n",
              "0        Kabupaten Bandung          0.317433  ...     -0.027690           -0.405263\n",
              "1  Kabupaten Bandung Barat         -0.274237  ...     -0.561645           -0.557504\n",
              "2         Kabupaten Bekasi          1.011667  ...      0.911545           -0.295336\n",
              "3          Kabupaten Bogor          0.874474  ...      1.303206           -0.416010\n",
              "4         Kabupaten Ciamis         -0.435346  ...     -0.591701           -0.669670\n",
              "\n",
              "[5 rows x 8 columns]"
            ]
          },
          "metadata": {},
          "execution_count": 28
        }
      ]
    },
    {
      "cell_type": "markdown",
      "source": [
        "## **Clustering**"
      ],
      "metadata": {
        "id": "4A2lc63h-R2m"
      }
    },
    {
      "cell_type": "code",
      "source": [
        "!pip install scikit-learn-extra"
      ],
      "metadata": {
        "colab": {
          "base_uri": "https://localhost:8080/"
        },
        "id": "zgl9c49Et4ry",
        "outputId": "61702301-d3a3-4be2-ea07-3b2899e325c7"
      },
      "execution_count": 29,
      "outputs": [
        {
          "output_type": "stream",
          "name": "stdout",
          "text": [
            "Collecting scikit-learn-extra\n",
            "  Downloading scikit_learn_extra-0.2.0-cp37-cp37m-manylinux2010_x86_64.whl (1.7 MB)\n",
            "\u001b[K     |████████████████████████████████| 1.7 MB 4.0 MB/s \n",
            "\u001b[?25hRequirement already satisfied: scipy>=0.19.1 in /usr/local/lib/python3.7/dist-packages (from scikit-learn-extra) (1.4.1)\n",
            "Requirement already satisfied: scikit-learn>=0.23.0 in /usr/local/lib/python3.7/dist-packages (from scikit-learn-extra) (1.0.1)\n",
            "Requirement already satisfied: numpy>=1.13.3 in /usr/local/lib/python3.7/dist-packages (from scikit-learn-extra) (1.19.5)\n",
            "Requirement already satisfied: joblib>=0.11 in /usr/local/lib/python3.7/dist-packages (from scikit-learn>=0.23.0->scikit-learn-extra) (1.1.0)\n",
            "Requirement already satisfied: threadpoolctl>=2.0.0 in /usr/local/lib/python3.7/dist-packages (from scikit-learn>=0.23.0->scikit-learn-extra) (3.0.0)\n",
            "Installing collected packages: scikit-learn-extra\n",
            "Successfully installed scikit-learn-extra-0.2.0\n"
          ]
        }
      ]
    },
    {
      "cell_type": "code",
      "source": [
        "from sklearn_extra.cluster import KMedoids"
      ],
      "metadata": {
        "id": "ru-k6kPVt8CM"
      },
      "execution_count": 30,
      "outputs": []
    },
    {
      "cell_type": "code",
      "source": [
        "X = df[['Konfirmasi_total','Konfirmasi_sembuh','Konfirmasi_meninggal','Konfirmasi_aktif','Jumlah_nakes','Jumlah_RS_Rujukan','Kepadatan_Penduduk']].values"
      ],
      "metadata": {
        "id": "KbGj6BCjuMlv"
      },
      "execution_count": 31,
      "outputs": []
    },
    {
      "cell_type": "code",
      "source": [
        "distorsions, k1, kN = [], 2, 10\n",
        "for k in range(k1, kN):\n",
        "    kmedoids = KMedoids(n_clusters=k).fit(X)\n",
        "    distorsions.append(kmedoids.inertia_)\n",
        "#fig = plt.figure(figsize=(15, 5))\n",
        "plt.plot(range(k1, kN), distorsions); plt.grid(True)\n",
        "plt.title('Elbow curve')"
      ],
      "metadata": {
        "colab": {
          "base_uri": "https://localhost:8080/",
          "height": 298
        },
        "id": "H5NaDovcuYA5",
        "outputId": "37103dc1-8239-482a-8abc-e0cc28a82bd3"
      },
      "execution_count": 32,
      "outputs": [
        {
          "output_type": "execute_result",
          "data": {
            "text/plain": [
              "Text(0.5, 1.0, 'Elbow curve')"
            ]
          },
          "metadata": {},
          "execution_count": 32
        },
        {
          "output_type": "display_data",
          "data": {
            "image/png": "[encoded data removed]",
            "text/plain": [
              "<Figure size 432x288 with 1 Axes>"
            ]
          },
          "metadata": {
            "needs_background": "light"
          }
        }
      ]
    },
    {
      "cell_type": "markdown",
      "source": [
        "#### **Clustering dengan K = 3**"
      ],
      "metadata": {
        "id": "hkjOL7KG5TAO"
      }
    },
    {
      "cell_type": "code",
      "source": [
        "\n",
        "kmedoids = KMedoids(n_clusters=3, init='k-medoids++',random_state=0).fit(X)\n",
        "kmedoids.labels_"
      ],
      "metadata": {
        "colab": {
          "base_uri": "https://localhost:8080/"
        },
        "id": "welWwIfPvjcc",
        "outputId": "5035eb01-92c2-4f97-d02d-9fb5b86bede7"
      },
      "execution_count": 33,
      "outputs": [
        {
          "output_type": "execute_result",
          "data": {
            "text/plain": [
              "array([2, 0, 2, 2, 0, 0, 0, 0, 0, 2, 0, 0, 0, 0, 0, 0, 0, 0, 1, 0, 1, 2,\n",
              "       0, 0, 1, 0, 0])"
            ]
          },
          "metadata": {},
          "execution_count": 33
        }
      ]
    },
    {
      "cell_type": "code",
      "source": [
        "#Add cluster result to Dataframe\n",
        "df['cluster_3']=kmedoids.labels_\n",
        "df"
      ],
      "metadata": {
        "colab": {
          "base_uri": "https://localhost:8080/",
          "height": 0
        },
        "id": "RXxDAhya3c-F",
        "outputId": "e5dbe46d-5038-48c3-b1db-efd9988df732"
      },
      "execution_count": 34,
      "outputs": [
        {
          "output_type": "execute_result",
          "data": {
            "text/html": [
              "\n",
              "  <div id=\"df-63e70958-5a6e-4488-bdde-946815e03533\">\n",
              "    <div class=\"colab-df-container\">\n",
              "      <div>\n",
              "<style scoped>\n",
              "    .dataframe tbody tr th:only-of-type {\n",
              "        vertical-align: middle;\n",
              "    }\n",
              "\n",
              "    .dataframe tbody tr th {\n",
              "        vertical-align: top;\n",
              "    }\n",
              "\n",
              "    .dataframe thead th {\n",
              "        text-align: right;\n",
              "    }\n",
              "</style>\n",
              "<table border=\"1\" class=\"dataframe\">\n",
              "  <thead>\n",
              "    <tr style=\"text-align: right;\">\n",
              "      <th></th>\n",
              "      <th>Kode_Kab_Kota</th>\n",
              "      <th>Kabupaten_Kota</th>\n",
              "      <th>Konfirmasi_total</th>\n",
              "      <th>Konfirmasi_sembuh</th>\n",
              "      <th>Konfirmasi_meninggal</th>\n",
              "      <th>Konfirmasi_aktif</th>\n",
              "      <th>Jumlah_RS_Rujukan</th>\n",
              "      <th>Jumlah_nakes</th>\n",
              "      <th>Kepadatan_Penduduk</th>\n",
              "      <th>cluster_3</th>\n",
              "    </tr>\n",
              "  </thead>\n",
              "  <tbody>\n",
              "    <tr>\n",
              "      <th>0</th>\n",
              "      <td>3204</td>\n",
              "      <td>Kabupaten Bandung</td>\n",
              "      <td>0.317433</td>\n",
              "      <td>0.312743</td>\n",
              "      <td>0.133438</td>\n",
              "      <td>2.623859</td>\n",
              "      <td>-0.230748</td>\n",
              "      <td>-0.027690</td>\n",
              "      <td>-0.405263</td>\n",
              "      <td>2</td>\n",
              "    </tr>\n",
              "    <tr>\n",
              "      <th>1</th>\n",
              "      <td>3217</td>\n",
              "      <td>Kabupaten Bandung Barat</td>\n",
              "      <td>-0.274237</td>\n",
              "      <td>-0.268430</td>\n",
              "      <td>-0.566716</td>\n",
              "      <td>0.497291</td>\n",
              "      <td>-0.490339</td>\n",
              "      <td>-0.561645</td>\n",
              "      <td>-0.557504</td>\n",
              "      <td>0</td>\n",
              "    </tr>\n",
              "    <tr>\n",
              "      <th>2</th>\n",
              "      <td>3216</td>\n",
              "      <td>Kabupaten Bekasi</td>\n",
              "      <td>1.011667</td>\n",
              "      <td>1.026079</td>\n",
              "      <td>-0.007409</td>\n",
              "      <td>0.466247</td>\n",
              "      <td>1.067209</td>\n",
              "      <td>0.911545</td>\n",
              "      <td>-0.295336</td>\n",
              "      <td>2</td>\n",
              "    </tr>\n",
              "    <tr>\n",
              "      <th>3</th>\n",
              "      <td>3201</td>\n",
              "      <td>Kabupaten Bogor</td>\n",
              "      <td>0.874474</td>\n",
              "      <td>0.901859</td>\n",
              "      <td>-0.687151</td>\n",
              "      <td>-0.108082</td>\n",
              "      <td>1.326800</td>\n",
              "      <td>1.303206</td>\n",
              "      <td>-0.416010</td>\n",
              "      <td>2</td>\n",
              "    </tr>\n",
              "    <tr>\n",
              "      <th>4</th>\n",
              "      <td>3207</td>\n",
              "      <td>Kabupaten Ciamis</td>\n",
              "      <td>-0.435346</td>\n",
              "      <td>-0.434246</td>\n",
              "      <td>-0.472818</td>\n",
              "      <td>0.636993</td>\n",
              "      <td>-0.749931</td>\n",
              "      <td>-0.591701</td>\n",
              "      <td>-0.669670</td>\n",
              "      <td>0</td>\n",
              "    </tr>\n",
              "    <tr>\n",
              "      <th>5</th>\n",
              "      <td>3203</td>\n",
              "      <td>Kabupaten Cianjur</td>\n",
              "      <td>-0.607731</td>\n",
              "      <td>-0.601570</td>\n",
              "      <td>-0.697358</td>\n",
              "      <td>-0.589276</td>\n",
              "      <td>-0.490339</td>\n",
              "      <td>-0.267195</td>\n",
              "      <td>-0.719820</td>\n",
              "      <td>0</td>\n",
              "    </tr>\n",
              "    <tr>\n",
              "      <th>6</th>\n",
              "      <td>3209</td>\n",
              "      <td>Kabupaten Cirebon</td>\n",
              "      <td>-0.041020</td>\n",
              "      <td>-0.055272</td>\n",
              "      <td>0.704993</td>\n",
              "      <td>-0.170171</td>\n",
              "      <td>0.028843</td>\n",
              "      <td>-1.017174</td>\n",
              "      <td>-0.347949</td>\n",
              "      <td>0</td>\n",
              "    </tr>\n",
              "    <tr>\n",
              "      <th>7</th>\n",
              "      <td>3205</td>\n",
              "      <td>Kabupaten Garut</td>\n",
              "      <td>0.029844</td>\n",
              "      <td>0.000462</td>\n",
              "      <td>1.280631</td>\n",
              "      <td>1.630426</td>\n",
              "      <td>-0.490339</td>\n",
              "      <td>-0.054458</td>\n",
              "      <td>-0.675939</td>\n",
              "      <td>0</td>\n",
              "    </tr>\n",
              "    <tr>\n",
              "      <th>8</th>\n",
              "      <td>3212</td>\n",
              "      <td>Kabupaten Indramayu</td>\n",
              "      <td>-0.410668</td>\n",
              "      <td>-0.421698</td>\n",
              "      <td>0.315111</td>\n",
              "      <td>-0.589276</td>\n",
              "      <td>-0.490339</td>\n",
              "      <td>-0.346560</td>\n",
              "      <td>-0.662954</td>\n",
              "      <td>0</td>\n",
              "    </tr>\n",
              "    <tr>\n",
              "      <th>9</th>\n",
              "      <td>3215</td>\n",
              "      <td>Kabupaten Karawang</td>\n",
              "      <td>0.692458</td>\n",
              "      <td>0.652320</td>\n",
              "      <td>2.664611</td>\n",
              "      <td>-0.930768</td>\n",
              "      <td>-0.230748</td>\n",
              "      <td>0.859417</td>\n",
              "      <td>-0.533773</td>\n",
              "      <td>2</td>\n",
              "    </tr>\n",
              "    <tr>\n",
              "      <th>10</th>\n",
              "      <td>3208</td>\n",
              "      <td>Kabupaten Kuningan</td>\n",
              "      <td>-0.500954</td>\n",
              "      <td>-0.494380</td>\n",
              "      <td>-0.607542</td>\n",
              "      <td>-0.806589</td>\n",
              "      <td>-0.490339</td>\n",
              "      <td>-0.531120</td>\n",
              "      <td>-0.628923</td>\n",
              "      <td>0</td>\n",
              "    </tr>\n",
              "    <tr>\n",
              "      <th>11</th>\n",
              "      <td>3210</td>\n",
              "      <td>Kabupaten Majalengka</td>\n",
              "      <td>-0.609136</td>\n",
              "      <td>-0.604544</td>\n",
              "      <td>-0.666739</td>\n",
              "      <td>-0.232261</td>\n",
              "      <td>-0.490339</td>\n",
              "      <td>-0.602502</td>\n",
              "      <td>-0.621535</td>\n",
              "      <td>0</td>\n",
              "    </tr>\n",
              "    <tr>\n",
              "      <th>12</th>\n",
              "      <td>3218</td>\n",
              "      <td>Kabupaten Pangandaran</td>\n",
              "      <td>-0.831318</td>\n",
              "      <td>-0.825198</td>\n",
              "      <td>-0.811669</td>\n",
              "      <td>-1.008380</td>\n",
              "      <td>-0.749931</td>\n",
              "      <td>-0.981013</td>\n",
              "      <td>-0.770418</td>\n",
              "      <td>0</td>\n",
              "    </tr>\n",
              "    <tr>\n",
              "      <th>13</th>\n",
              "      <td>3214</td>\n",
              "      <td>Kabupaten Purwakarta</td>\n",
              "      <td>-0.545695</td>\n",
              "      <td>-0.553170</td>\n",
              "      <td>0.072200</td>\n",
              "      <td>-0.884201</td>\n",
              "      <td>-0.490339</td>\n",
              "      <td>-0.320731</td>\n",
              "      <td>-0.593774</td>\n",
              "      <td>0</td>\n",
              "    </tr>\n",
              "    <tr>\n",
              "      <th>14</th>\n",
              "      <td>3213</td>\n",
              "      <td>Kabupaten Subang</td>\n",
              "      <td>-0.655081</td>\n",
              "      <td>-0.651804</td>\n",
              "      <td>-0.556510</td>\n",
              "      <td>-0.837634</td>\n",
              "      <td>-0.749931</td>\n",
              "      <td>-0.571507</td>\n",
              "      <td>-0.675715</td>\n",
              "      <td>0</td>\n",
              "    </tr>\n",
              "    <tr>\n",
              "      <th>15</th>\n",
              "      <td>3202</td>\n",
              "      <td>Kabupaten Sukabumi</td>\n",
              "      <td>-0.590717</td>\n",
              "      <td>-0.588411</td>\n",
              "      <td>-0.446282</td>\n",
              "      <td>-0.930768</td>\n",
              "      <td>0.807618</td>\n",
              "      <td>-0.055397</td>\n",
              "      <td>-0.717134</td>\n",
              "      <td>0</td>\n",
              "    </tr>\n",
              "    <tr>\n",
              "      <th>16</th>\n",
              "      <td>3211</td>\n",
              "      <td>Kabupaten Sumedang</td>\n",
              "      <td>-0.682126</td>\n",
              "      <td>-0.674211</td>\n",
              "      <td>-0.823916</td>\n",
              "      <td>-0.728977</td>\n",
              "      <td>-0.749931</td>\n",
              "      <td>-0.638193</td>\n",
              "      <td>-0.694298</td>\n",
              "      <td>0</td>\n",
              "    </tr>\n",
              "    <tr>\n",
              "      <th>17</th>\n",
              "      <td>3206</td>\n",
              "      <td>Kabupaten Tasikmalaya</td>\n",
              "      <td>-0.761256</td>\n",
              "      <td>-0.762375</td>\n",
              "      <td>-0.550386</td>\n",
              "      <td>0.171321</td>\n",
              "      <td>-0.749931</td>\n",
              "      <td>-0.676232</td>\n",
              "      <td>-0.700566</td>\n",
              "      <td>0</td>\n",
              "    </tr>\n",
              "    <tr>\n",
              "      <th>18</th>\n",
              "      <td>3273</td>\n",
              "      <td>Kota Bandung</td>\n",
              "      <td>0.752528</td>\n",
              "      <td>0.764562</td>\n",
              "      <td>-0.293187</td>\n",
              "      <td>2.034008</td>\n",
              "      <td>2.624757</td>\n",
              "      <td>3.543750</td>\n",
              "      <td>2.399332</td>\n",
              "      <td>1</td>\n",
              "    </tr>\n",
              "    <tr>\n",
              "      <th>19</th>\n",
              "      <td>3279</td>\n",
              "      <td>Kota Banjar</td>\n",
              "      <td>-0.846646</td>\n",
              "      <td>-0.840028</td>\n",
              "      <td>-0.842288</td>\n",
              "      <td>-1.054948</td>\n",
              "      <td>-0.749931</td>\n",
              "      <td>-0.940626</td>\n",
              "      <td>-0.467727</td>\n",
              "      <td>0</td>\n",
              "    </tr>\n",
              "    <tr>\n",
              "      <th>20</th>\n",
              "      <td>3275</td>\n",
              "      <td>Kota Bekasi</td>\n",
              "      <td>2.747112</td>\n",
              "      <td>2.770818</td>\n",
              "      <td>0.960152</td>\n",
              "      <td>-0.309873</td>\n",
              "      <td>2.624757</td>\n",
              "      <td>1.804757</td>\n",
              "      <td>1.892011</td>\n",
              "      <td>1</td>\n",
              "    </tr>\n",
              "    <tr>\n",
              "      <th>21</th>\n",
              "      <td>3271</td>\n",
              "      <td>Kota Bogor</td>\n",
              "      <td>0.446240</td>\n",
              "      <td>0.452974</td>\n",
              "      <td>-0.040069</td>\n",
              "      <td>0.342067</td>\n",
              "      <td>1.067209</td>\n",
              "      <td>0.629774</td>\n",
              "      <td>1.106402</td>\n",
              "      <td>2</td>\n",
              "    </tr>\n",
              "    <tr>\n",
              "      <th>22</th>\n",
              "      <td>3277</td>\n",
              "      <td>Kota Cimahi</td>\n",
              "      <td>-0.565357</td>\n",
              "      <td>-0.560014</td>\n",
              "      <td>-0.744307</td>\n",
              "      <td>0.326545</td>\n",
              "      <td>-0.490339</td>\n",
              "      <td>-0.383190</td>\n",
              "      <td>2.376272</td>\n",
              "      <td>0</td>\n",
              "    </tr>\n",
              "    <tr>\n",
              "      <th>23</th>\n",
              "      <td>3274</td>\n",
              "      <td>Kota Cirebon</td>\n",
              "      <td>-0.528762</td>\n",
              "      <td>-0.534266</td>\n",
              "      <td>-0.042111</td>\n",
              "      <td>-0.666888</td>\n",
              "      <td>-0.490339</td>\n",
              "      <td>-0.435318</td>\n",
              "      <td>1.133044</td>\n",
              "      <td>0</td>\n",
              "    </tr>\n",
              "    <tr>\n",
              "      <th>24</th>\n",
              "      <td>3276</td>\n",
              "      <td>Kota Depok</td>\n",
              "      <td>3.174022</td>\n",
              "      <td>3.152359</td>\n",
              "      <td>3.258620</td>\n",
              "      <td>1.987441</td>\n",
              "      <td>1.326800</td>\n",
              "      <td>0.981518</td>\n",
              "      <td>1.434392</td>\n",
              "      <td>1</td>\n",
              "    </tr>\n",
              "    <tr>\n",
              "      <th>25</th>\n",
              "      <td>3272</td>\n",
              "      <td>Kota Sukabumi</td>\n",
              "      <td>-0.673499</td>\n",
              "      <td>-0.671889</td>\n",
              "      <td>-0.529974</td>\n",
              "      <td>-0.511664</td>\n",
              "      <td>-0.749931</td>\n",
              "      <td>-0.557418</td>\n",
              "      <td>0.742814</td>\n",
              "      <td>0</td>\n",
              "    </tr>\n",
              "    <tr>\n",
              "      <th>26</th>\n",
              "      <td>3278</td>\n",
              "      <td>Kota Tasikmalaya</td>\n",
              "      <td>-0.486227</td>\n",
              "      <td>-0.492669</td>\n",
              "      <td>-0.003327</td>\n",
              "      <td>-0.356440</td>\n",
              "      <td>-0.749931</td>\n",
              "      <td>-0.474296</td>\n",
              "      <td>0.070043</td>\n",
              "      <td>0</td>\n",
              "    </tr>\n",
              "  </tbody>\n",
              "</table>\n",
              "</div>\n",
              "      <button class=\"colab-df-convert\" onclick=\"convertToInteractive('df-63e70958-5a6e-4488-bdde-946815e03533')\"\n",
              "              title=\"Convert this dataframe to an interactive table.\"\n",
              "              style=\"display:none;\">\n",
              "        \n",
              "  <svg xmlns=\"http://www.w3.org/2000/svg\" height=\"24px\"viewBox=\"0 0 24 24\"\n",
              "       width=\"24px\">\n",
              "    <path d=\"M0 0h24v24H0V0z\" fill=\"none\"/>\n",
              "    <path d=\"M18.56 5.44l.94 2.06.94-2.06 2.06-.94-2.06-.94-.94-2.06-.94 2.06-2.06.94zm-11 1L8.5 8.5l.94-2.06 2.06-.94-2.06-.94L8.5 2.5l-.94 2.06-2.06.94zm10 10l.94 2.06.94-2.06 2.06-.94-2.06-.94-.94-2.06-.94 2.06-2.06.94z\"/><path d=\"M17.41 7.96l-1.37-1.37c-.4-.4-.92-.59-1.43-.59-.52 0-1.04.2-1.43.59L10.3 9.45l-7.72 7.72c-.78.78-.78 2.05 0 2.83L4 21.41c.39.39.9.59 1.41.59.51 0 1.02-.2 1.41-.59l7.78-7.78 2.81-2.81c.8-.78.8-2.07 0-2.86zM5.41 20L4 18.59l7.72-7.72 1.47 1.35L5.41 20z\"/>\n",
              "  </svg>\n",
              "      </button>\n",
              "      \n",
              "  <style>\n",
              "    .colab-df-container {\n",
              "      display:flex;\n",
              "      flex-wrap:wrap;\n",
              "      gap: 12px;\n",
              "    }\n",
              "\n",
              "    .colab-df-convert {\n",
              "      background-color: #E8F0FE;\n",
              "      border: none;\n",
              "      border-radius: 50%;\n",
              "      cursor: pointer;\n",
              "      display: none;\n",
              "      fill: #1967D2;\n",
              "      height: 32px;\n",
              "      padding: 0 0 0 0;\n",
              "      width: 32px;\n",
              "    }\n",
              "\n",
              "    .colab-df-convert:hover {\n",
              "      background-color: #E2EBFA;\n",
              "      box-shadow: 0px 1px 2px rgba(60, 64, 67, 0.3), 0px 1px 3px 1px rgba(60, 64, 67, 0.15);\n",
              "      fill: #174EA6;\n",
              "    }\n",
              "\n",
              "    [theme=dark] .colab-df-convert {\n",
              "      background-color: #3B4455;\n",
              "      fill: #D2E3FC;\n",
              "    }\n",
              "\n",
              "    [theme=dark] .colab-df-convert:hover {\n",
              "      background-color: #434B5C;\n",
              "      box-shadow: 0px 1px 3px 1px rgba(0, 0, 0, 0.15);\n",
              "      filter: drop-shadow(0px 1px 2px rgba(0, 0, 0, 0.3));\n",
              "      fill: #FFFFFF;\n",
              "    }\n",
              "  </style>\n",
              "\n",
              "      <script>\n",
              "        const buttonEl =\n",
              "          document.querySelector('#df-63e70958-5a6e-4488-bdde-946815e03533 button.colab-df-convert');\n",
              "        buttonEl.style.display =\n",
              "          google.colab.kernel.accessAllowed ? 'block' : 'none';\n",
              "\n",
              "        async function convertToInteractive(key) {\n",
              "          const element = document.querySelector('#df-63e70958-5a6e-4488-bdde-946815e03533');\n",
              "          const dataTable =\n",
              "            await google.colab.kernel.invokeFunction('convertToInteractive',\n",
              "                                                     [key], {});\n",
              "          if (!dataTable) return;\n",
              "\n",
              "          const docLinkHtml = 'Like what you see? Visit the ' +\n",
              "            '<a target=\"_blank\" href=https://colab.research.google.com/notebooks/data_table.ipynb>data table notebook</a>'\n",
              "            + ' to learn more about interactive tables.';\n",
              "          element.innerHTML = '';\n",
              "          dataTable['output_type'] = 'display_data';\n",
              "          await google.colab.output.renderOutput(dataTable, element);\n",
              "          const docLink = document.createElement('div');\n",
              "          docLink.innerHTML = docLinkHtml;\n",
              "          element.appendChild(docLink);\n",
              "        }\n",
              "      </script>\n",
              "    </div>\n",
              "  </div>\n",
              "  "
            ],
            "text/plain": [
              "    Kode_Kab_Kota           Kabupaten_Kota  ...  Kepadatan_Penduduk  cluster_3\n",
              "0            3204        Kabupaten Bandung  ...           -0.405263          2\n",
              "1            3217  Kabupaten Bandung Barat  ...           -0.557504          0\n",
              "2            3216         Kabupaten Bekasi  ...           -0.295336          2\n",
              "3            3201          Kabupaten Bogor  ...           -0.416010          2\n",
              "4            3207         Kabupaten Ciamis  ...           -0.669670          0\n",
              "5            3203        Kabupaten Cianjur  ...           -0.719820          0\n",
              "6            3209        Kabupaten Cirebon  ...           -0.347949          0\n",
              "7            3205          Kabupaten Garut  ...           -0.675939          0\n",
              "8            3212      Kabupaten Indramayu  ...           -0.662954          0\n",
              "9            3215       Kabupaten Karawang  ...           -0.533773          2\n",
              "10           3208       Kabupaten Kuningan  ...           -0.628923          0\n",
              "11           3210     Kabupaten Majalengka  ...           -0.621535          0\n",
              "12           3218    Kabupaten Pangandaran  ...           -0.770418          0\n",
              "13           3214     Kabupaten Purwakarta  ...           -0.593774          0\n",
              "14           3213         Kabupaten Subang  ...           -0.675715          0\n",
              "15           3202       Kabupaten Sukabumi  ...           -0.717134          0\n",
              "16           3211       Kabupaten Sumedang  ...           -0.694298          0\n",
              "17           3206    Kabupaten Tasikmalaya  ...           -0.700566          0\n",
              "18           3273             Kota Bandung  ...            2.399332          1\n",
              "19           3279              Kota Banjar  ...           -0.467727          0\n",
              "20           3275              Kota Bekasi  ...            1.892011          1\n",
              "21           3271               Kota Bogor  ...            1.106402          2\n",
              "22           3277              Kota Cimahi  ...            2.376272          0\n",
              "23           3274             Kota Cirebon  ...            1.133044          0\n",
              "24           3276               Kota Depok  ...            1.434392          1\n",
              "25           3272            Kota Sukabumi  ...            0.742814          0\n",
              "26           3278         Kota Tasikmalaya  ...            0.070043          0\n",
              "\n",
              "[27 rows x 10 columns]"
            ]
          },
          "metadata": {},
          "execution_count": 34
        }
      ]
    },
    {
      "cell_type": "code",
      "source": [
        "df[df.cluster_3 == 0].Kabupaten_Kota.values"
      ],
      "metadata": {
        "colab": {
          "base_uri": "https://localhost:8080/"
        },
        "id": "onL1gagz9CJI",
        "outputId": "e34ccbd1-1bc3-43cd-f3e3-921c32e661a3"
      },
      "execution_count": 35,
      "outputs": [
        {
          "output_type": "execute_result",
          "data": {
            "text/plain": [
              "array(['Kabupaten Bandung Barat', 'Kabupaten Ciamis', 'Kabupaten Cianjur',\n",
              "       'Kabupaten Cirebon', 'Kabupaten Garut', 'Kabupaten Indramayu',\n",
              "       'Kabupaten Kuningan', 'Kabupaten Majalengka',\n",
              "       'Kabupaten Pangandaran', 'Kabupaten Purwakarta',\n",
              "       'Kabupaten Subang', 'Kabupaten Sukabumi', 'Kabupaten Sumedang',\n",
              "       'Kabupaten Tasikmalaya', 'Kota Banjar', 'Kota Cimahi',\n",
              "       'Kota Cirebon', 'Kota Sukabumi', 'Kota Tasikmalaya'], dtype=object)"
            ]
          },
          "metadata": {},
          "execution_count": 35
        }
      ]
    },
    {
      "cell_type": "code",
      "source": [
        "df[df.cluster_3 == 1].Kabupaten_Kota.values"
      ],
      "metadata": {
        "colab": {
          "base_uri": "https://localhost:8080/"
        },
        "id": "ouGtNMiy9CW2",
        "outputId": "e2753576-d0f8-4676-a854-d51069e0d435"
      },
      "execution_count": 36,
      "outputs": [
        {
          "output_type": "execute_result",
          "data": {
            "text/plain": [
              "array(['Kota Bandung', 'Kota Bekasi', 'Kota Depok'], dtype=object)"
            ]
          },
          "metadata": {},
          "execution_count": 36
        }
      ]
    },
    {
      "cell_type": "code",
      "source": [
        "df[df.cluster_3 == 2].Kabupaten_Kota.values"
      ],
      "metadata": {
        "colab": {
          "base_uri": "https://localhost:8080/"
        },
        "id": "HkYSAsAv9Ci7",
        "outputId": "906d4ce5-d900-47a5-d25f-a56cc91dae42"
      },
      "execution_count": 37,
      "outputs": [
        {
          "output_type": "execute_result",
          "data": {
            "text/plain": [
              "array(['Kabupaten Bandung', 'Kabupaten Bekasi', 'Kabupaten Bogor',\n",
              "       'Kabupaten Karawang', 'Kota Bogor'], dtype=object)"
            ]
          },
          "metadata": {},
          "execution_count": 37
        }
      ]
    },
    {
      "cell_type": "code",
      "source": [
        "#See Characteristic of Cluster in each variables\n",
        "hasil=df.groupby(['cluster_3']).agg({\"Konfirmasi_total\":\"mean\",\"Konfirmasi_sembuh\":\"mean\",\"Konfirmasi_meninggal\":\"mean\",\n",
        "                                                 \"Konfirmasi_aktif\":\"mean\",\"Jumlah_RS_Rujukan\":\"mean\",\"Jumlah_nakes\":\"mean\",\"Kepadatan_Penduduk\":\"mean\"}).reset_index()\n",
        "hasil"
      ],
      "metadata": {
        "colab": {
          "base_uri": "https://localhost:8080/",
          "height": 0
        },
        "id": "HowR0NEj4J-R",
        "outputId": "d6b14be3-9462-42f0-eb74-dd30a75a4fb7"
      },
      "execution_count": 38,
      "outputs": [
        {
          "output_type": "execute_result",
          "data": {
            "text/html": [
              "\n",
              "  <div id=\"df-3a8f8210-c5b1-47e6-93a8-35bf8bce2945\">\n",
              "    <div class=\"colab-df-container\">\n",
              "      <div>\n",
              "<style scoped>\n",
              "    .dataframe tbody tr th:only-of-type {\n",
              "        vertical-align: middle;\n",
              "    }\n",
              "\n",
              "    .dataframe tbody tr th {\n",
              "        vertical-align: top;\n",
              "    }\n",
              "\n",
              "    .dataframe thead th {\n",
              "        text-align: right;\n",
              "    }\n",
              "</style>\n",
              "<table border=\"1\" class=\"dataframe\">\n",
              "  <thead>\n",
              "    <tr style=\"text-align: right;\">\n",
              "      <th></th>\n",
              "      <th>cluster_3</th>\n",
              "      <th>Konfirmasi_total</th>\n",
              "      <th>Konfirmasi_sembuh</th>\n",
              "      <th>Konfirmasi_meninggal</th>\n",
              "      <th>Konfirmasi_aktif</th>\n",
              "      <th>Jumlah_RS_Rujukan</th>\n",
              "      <th>Jumlah_nakes</th>\n",
              "      <th>Kepadatan_Penduduk</th>\n",
              "    </tr>\n",
              "  </thead>\n",
              "  <tbody>\n",
              "    <tr>\n",
              "      <th>0</th>\n",
              "      <td>0</td>\n",
              "      <td>-0.527154</td>\n",
              "      <td>-0.528090</td>\n",
              "      <td>-0.315211</td>\n",
              "      <td>-0.321310</td>\n",
              "      <td>-0.504002</td>\n",
              "      <td>-0.526646</td>\n",
              "      <td>-0.272724</td>\n",
              "    </tr>\n",
              "    <tr>\n",
              "      <th>1</th>\n",
              "      <td>1</td>\n",
              "      <td>2.224554</td>\n",
              "      <td>2.229246</td>\n",
              "      <td>1.308528</td>\n",
              "      <td>1.237192</td>\n",
              "      <td>2.192105</td>\n",
              "      <td>2.110008</td>\n",
              "      <td>1.908578</td>\n",
              "    </tr>\n",
              "    <tr>\n",
              "      <th>2</th>\n",
              "      <td>2</td>\n",
              "      <td>0.668454</td>\n",
              "      <td>0.669195</td>\n",
              "      <td>0.412684</td>\n",
              "      <td>0.478665</td>\n",
              "      <td>0.599945</td>\n",
              "      <td>0.735250</td>\n",
              "      <td>-0.108796</td>\n",
              "    </tr>\n",
              "  </tbody>\n",
              "</table>\n",
              "</div>\n",
              "      <button class=\"colab-df-convert\" onclick=\"convertToInteractive('df-3a8f8210-c5b1-47e6-93a8-35bf8bce2945')\"\n",
              "              title=\"Convert this dataframe to an interactive table.\"\n",
              "              style=\"display:none;\">\n",
              "        \n",
              "  <svg xmlns=\"http://www.w3.org/2000/svg\" height=\"24px\"viewBox=\"0 0 24 24\"\n",
              "       width=\"24px\">\n",
              "    <path d=\"M0 0h24v24H0V0z\" fill=\"none\"/>\n",
              "    <path d=\"M18.56 5.44l.94 2.06.94-2.06 2.06-.94-2.06-.94-.94-2.06-.94 2.06-2.06.94zm-11 1L8.5 8.5l.94-2.06 2.06-.94-2.06-.94L8.5 2.5l-.94 2.06-2.06.94zm10 10l.94 2.06.94-2.06 2.06-.94-2.06-.94-.94-2.06-.94 2.06-2.06.94z\"/><path d=\"M17.41 7.96l-1.37-1.37c-.4-.4-.92-.59-1.43-.59-.52 0-1.04.2-1.43.59L10.3 9.45l-7.72 7.72c-.78.78-.78 2.05 0 2.83L4 21.41c.39.39.9.59 1.41.59.51 0 1.02-.2 1.41-.59l7.78-7.78 2.81-2.81c.8-.78.8-2.07 0-2.86zM5.41 20L4 18.59l7.72-7.72 1.47 1.35L5.41 20z\"/>\n",
              "  </svg>\n",
              "      </button>\n",
              "      \n",
              "  <style>\n",
              "    .colab-df-container {\n",
              "      display:flex;\n",
              "      flex-wrap:wrap;\n",
              "      gap: 12px;\n",
              "    }\n",
              "\n",
              "    .colab-df-convert {\n",
              "      background-color: #E8F0FE;\n",
              "      border: none;\n",
              "      border-radius: 50%;\n",
              "      cursor: pointer;\n",
              "      display: none;\n",
              "      fill: #1967D2;\n",
              "      height: 32px;\n",
              "      padding: 0 0 0 0;\n",
              "      width: 32px;\n",
              "    }\n",
              "\n",
              "    .colab-df-convert:hover {\n",
              "      background-color: #E2EBFA;\n",
              "      box-shadow: 0px 1px 2px rgba(60, 64, 67, 0.3), 0px 1px 3px 1px rgba(60, 64, 67, 0.15);\n",
              "      fill: #174EA6;\n",
              "    }\n",
              "\n",
              "    [theme=dark] .colab-df-convert {\n",
              "      background-color: #3B4455;\n",
              "      fill: #D2E3FC;\n",
              "    }\n",
              "\n",
              "    [theme=dark] .colab-df-convert:hover {\n",
              "      background-color: #434B5C;\n",
              "      box-shadow: 0px 1px 3px 1px rgba(0, 0, 0, 0.15);\n",
              "      filter: drop-shadow(0px 1px 2px rgba(0, 0, 0, 0.3));\n",
              "      fill: #FFFFFF;\n",
              "    }\n",
              "  </style>\n",
              "\n",
              "      <script>\n",
              "        const buttonEl =\n",
              "          document.querySelector('#df-3a8f8210-c5b1-47e6-93a8-35bf8bce2945 button.colab-df-convert');\n",
              "        buttonEl.style.display =\n",
              "          google.colab.kernel.accessAllowed ? 'block' : 'none';\n",
              "\n",
              "        async function convertToInteractive(key) {\n",
              "          const element = document.querySelector('#df-3a8f8210-c5b1-47e6-93a8-35bf8bce2945');\n",
              "          const dataTable =\n",
              "            await google.colab.kernel.invokeFunction('convertToInteractive',\n",
              "                                                     [key], {});\n",
              "          if (!dataTable) return;\n",
              "\n",
              "          const docLinkHtml = 'Like what you see? Visit the ' +\n",
              "            '<a target=\"_blank\" href=https://colab.research.google.com/notebooks/data_table.ipynb>data table notebook</a>'\n",
              "            + ' to learn more about interactive tables.';\n",
              "          element.innerHTML = '';\n",
              "          dataTable['output_type'] = 'display_data';\n",
              "          await google.colab.output.renderOutput(dataTable, element);\n",
              "          const docLink = document.createElement('div');\n",
              "          docLink.innerHTML = docLinkHtml;\n",
              "          element.appendChild(docLink);\n",
              "        }\n",
              "      </script>\n",
              "    </div>\n",
              "  </div>\n",
              "  "
            ],
            "text/plain": [
              "   cluster_3  Konfirmasi_total  ...  Jumlah_nakes  Kepadatan_Penduduk\n",
              "0          0         -0.527154  ...     -0.526646           -0.272724\n",
              "1          1          2.224554  ...      2.110008            1.908578\n",
              "2          2          0.668454  ...      0.735250           -0.108796\n",
              "\n",
              "[3 rows x 8 columns]"
            ]
          },
          "metadata": {},
          "execution_count": 38
        }
      ]
    },
    {
      "cell_type": "code",
      "source": [
        "fig = plt.figure(figsize = (15, 5))\n",
        "\n",
        "hasil['cluster_3'] = hasil.index\n",
        "pd.plotting.parallel_coordinates(hasil, 'cluster_3', color=('r', 'g','b'))\n",
        "plt.show()"
      ],
      "metadata": {
        "colab": {
          "base_uri": "https://localhost:8080/",
          "height": 0
        },
        "id": "rYr2208U4ddm",
        "outputId": "d534d607-b195-470c-9ab7-ec8c47d88022"
      },
      "execution_count": 39,
      "outputs": [
        {
          "output_type": "display_data",
          "data": {
            "image/png": "[encoded data removed]",
            "text/plain": [
              "<Figure size 1080x360 with 1 Axes>"
            ]
          },
          "metadata": {
            "needs_background": "light"
          }
        }
      ]
    },
    {
      "cell_type": "code",
      "source": [
        "# Hasil clusteringnya\n",
        "C_km = kmedoids.predict(X)\n",
        "p= sns.countplot(C_km)"
      ],
      "metadata": {
        "colab": {
          "base_uri": "https://localhost:8080/",
          "height": 0
        },
        "id": "X4tnleR3uYJ2",
        "outputId": "1f8ba3c8-3e2b-4d9d-a437-901cc7199147"
      },
      "execution_count": 40,
      "outputs": [
        {
          "output_type": "stream",
          "name": "stderr",
          "text": [
            "/usr/local/lib/python3.7/dist-packages/seaborn/_decorators.py:43: FutureWarning: Pass the following variable as a keyword arg: x. From version 0.12, the only valid positional argument will be `data`, and passing other arguments without an explicit keyword will result in an error or misinterpretation.\n",
            "  FutureWarning\n"
          ]
        },
        {
          "output_type": "display_data",
          "data": {
            "image/png": "[encoded data removed]",
            "text/plain": [
              "<Figure size 432x288 with 1 Axes>"
            ]
          },
          "metadata": {
            "needs_background": "light"
          }
        }
      ]
    },
    {
      "cell_type": "code",
      "source": [
        "!pip install --upgrade umap-learn\n",
        "!wget https://raw.githubusercontent.com/taudata-indonesia/eLearning/master/tau_unsup.p\n",
        "\n",
        "import umap"
      ],
      "metadata": {
        "colab": {
          "base_uri": "https://localhost:8080/"
        },
        "id": "YfWLQ7rRumwv",
        "outputId": "a9976d60-577c-4bc2-b3d8-3434e0eeb2e2"
      },
      "execution_count": 41,
      "outputs": [
        {
          "output_type": "stream",
          "name": "stdout",
          "text": [
            "Collecting umap-learn\n",
            "  Downloading umap-learn-0.5.2.tar.gz (86 kB)\n",
            "\u001b[?25l\r\u001b[K     |███▊                            | 10 kB 22.5 MB/s eta 0:00:01\r\u001b[K     |███████▌                        | 20 kB 15.2 MB/s eta 0:00:01\r\u001b[K     |███████████▎                    | 30 kB 10.4 MB/s eta 0:00:01\r\u001b[K     |███████████████                 | 40 kB 8.6 MB/s eta 0:00:01\r\u001b[K     |██████████████████▉             | 51 kB 4.3 MB/s eta 0:00:01\r\u001b[K     |██████████████████████▋         | 61 kB 4.6 MB/s eta 0:00:01\r\u001b[K     |██████████████████████████▍     | 71 kB 4.6 MB/s eta 0:00:01\r\u001b[K     |██████████████████████████████▏ | 81 kB 5.1 MB/s eta 0:00:01\r\u001b[K     |████████████████████████████████| 86 kB 2.9 MB/s \n",
            "\u001b[?25hRequirement already satisfied: numpy>=1.17 in /usr/local/lib/python3.7/dist-packages (from umap-learn) (1.19.5)\n",
            "Requirement already satisfied: scikit-learn>=0.22 in /usr/local/lib/python3.7/dist-packages (from umap-learn) (1.0.1)\n",
            "Requirement already satisfied: scipy>=1.0 in /usr/local/lib/python3.7/dist-packages (from umap-learn) (1.4.1)\n",
            "Requirement already satisfied: numba>=0.49 in /usr/local/lib/python3.7/dist-packages (from umap-learn) (0.51.2)\n",
            "Collecting pynndescent>=0.5\n",
            "  Downloading pynndescent-0.5.5.tar.gz (1.1 MB)\n",
            "\u001b[K     |████████████████████████████████| 1.1 MB 30.2 MB/s \n",
            "\u001b[?25hRequirement already satisfied: tqdm in /usr/local/lib/python3.7/dist-packages (from umap-learn) (4.62.3)\n",
            "Requirement already satisfied: llvmlite<0.35,>=0.34.0.dev0 in /usr/local/lib/python3.7/dist-packages (from numba>=0.49->umap-learn) (0.34.0)\n",
            "Requirement already satisfied: setuptools in /usr/local/lib/python3.7/dist-packages (from numba>=0.49->umap-learn) (57.4.0)\n",
            "Requirement already satisfied: joblib>=0.11 in /usr/local/lib/python3.7/dist-packages (from pynndescent>=0.5->umap-learn) (1.1.0)\n",
            "Requirement already satisfied: threadpoolctl>=2.0.0 in /usr/local/lib/python3.7/dist-packages (from scikit-learn>=0.22->umap-learn) (3.0.0)\n",
            "Building wheels for collected packages: umap-learn, pynndescent\n",
            "  Building wheel for umap-learn (setup.py) ... \u001b[?25l\u001b[?25hdone\n",
            "  Created wheel for umap-learn: filename=umap_learn-0.5.2-py3-none-any.whl size=82709 sha256=02917501b3a7f2984abae5deaeb5484c828c2d5e6e776bee136cc387a54379c7\n",
            "  Stored in directory: /root/.cache/pip/wheels/84/1b/c6/aaf68a748122632967cef4dffef68224eb16798b6793257d82\n",
            "  Building wheel for pynndescent (setup.py) ... \u001b[?25l\u001b[?25hdone\n",
            "  Created wheel for pynndescent: filename=pynndescent-0.5.5-py3-none-any.whl size=52603 sha256=3cf7a1bae36b73edcf78203da32a336ad9a28465e48bb136c95b326fe1f1f6fe\n",
            "  Stored in directory: /root/.cache/pip/wheels/af/e9/33/04db1436df0757c42fda8ea6796d7a8586e23c85fac355f476\n",
            "Successfully built umap-learn pynndescent\n",
            "Installing collected packages: pynndescent, umap-learn\n",
            "Successfully installed pynndescent-0.5.5 umap-learn-0.5.2\n",
            "--2021-12-19 17:50:10--  https://raw.githubusercontent.com/taudata-indonesia/eLearning/master/tau_unsup.p\n",
            "Resolving raw.githubusercontent.com (raw.githubusercontent.com)... 185.199.109.133, 185.199.108.133, 185.199.111.133, ...\n",
            "Connecting to raw.githubusercontent.com (raw.githubusercontent.com)|185.199.109.133|:443... connected.\n",
            "HTTP request sent, awaiting response... 404 Not Found\n",
            "2021-12-19 17:50:10 ERROR 404: Not Found.\n",
            "\n"
          ]
        }
      ]
    },
    {
      "cell_type": "code",
      "source": [
        "random_state=99\n",
        "\n",
        "X2D = umap.UMAP(n_neighbors=5, min_dist=0.3, random_state=random_state).fit_transform(X)\n",
        "fig, ax = plt.subplots()\n",
        "ax.scatter(X2D[:,0], X2D[:,1], c=C_km)\n",
        "plt.show()"
      ],
      "metadata": {
        "colab": {
          "base_uri": "https://localhost:8080/",
          "height": 0
        },
        "id": "N2aI7PgB2RAg",
        "outputId": "37a18946-0a4d-47dd-acec-15753dcfb771"
      },
      "execution_count": 42,
      "outputs": [
        {
          "output_type": "stream",
          "name": "stderr",
          "text": [
            "/usr/local/lib/python3.7/dist-packages/numba/np/ufunc/parallel.py:363: NumbaWarning: The TBB threading layer requires TBB version 2019.5 or later i.e., TBB_INTERFACE_VERSION >= 11005. Found TBB_INTERFACE_VERSION = 9107. The TBB threading layer is disabled.\n",
            "  warnings.warn(problem)\n"
          ]
        },
        {
          "output_type": "display_data",
          "data": {
            "image/png": "[encoded data removed]",
            "text/plain": [
              "<Figure size 432x288 with 1 Axes>"
            ]
          },
          "metadata": {
            "needs_background": "light"
          }
        }
      ]
    },
    {
      "cell_type": "markdown",
      "source": [
        "### **Clustering dengan k = 4**"
      ],
      "metadata": {
        "id": "nC66fsTB5n2I"
      }
    },
    {
      "cell_type": "code",
      "source": [
        "kmedoids2 = KMedoids(n_clusters=4, init='k-medoids++',random_state=0).fit(X)\n",
        "kmedoids2.labels_"
      ],
      "metadata": {
        "colab": {
          "base_uri": "https://localhost:8080/"
        },
        "id": "YU4h-yNu5qhi",
        "outputId": "127b1359-0557-4c8c-9c2e-1614f944da1b"
      },
      "execution_count": 43,
      "outputs": [
        {
          "output_type": "execute_result",
          "data": {
            "text/plain": [
              "array([2, 0, 3, 3, 0, 0, 0, 2, 0, 2, 0, 0, 0, 0, 0, 0, 0, 0, 1, 0, 1, 3,\n",
              "       0, 0, 1, 0, 0])"
            ]
          },
          "metadata": {},
          "execution_count": 43
        }
      ]
    },
    {
      "cell_type": "code",
      "source": [
        "#Add cluster result to Dataframe\n",
        "df['cluster_4']=kmedoids2.labels_\n",
        "df"
      ],
      "metadata": {
        "colab": {
          "base_uri": "https://localhost:8080/",
          "height": 0
        },
        "id": "WelXIbdM51ZC",
        "outputId": "306ba2e4-739a-4d07-bc67-eb005e158cdb"
      },
      "execution_count": 44,
      "outputs": [
        {
          "output_type": "execute_result",
          "data": {
            "text/html": [
              "\n",
              "  <div id=\"df-7043e91d-7524-4a21-a350-d8c845ad1120\">\n",
              "    <div class=\"colab-df-container\">\n",
              "      <div>\n",
              "<style scoped>\n",
              "    .dataframe tbody tr th:only-of-type {\n",
              "        vertical-align: middle;\n",
              "    }\n",
              "\n",
              "    .dataframe tbody tr th {\n",
              "        vertical-align: top;\n",
              "    }\n",
              "\n",
              "    .dataframe thead th {\n",
              "        text-align: right;\n",
              "    }\n",
              "</style>\n",
              "<table border=\"1\" class=\"dataframe\">\n",
              "  <thead>\n",
              "    <tr style=\"text-align: right;\">\n",
              "      <th></th>\n",
              "      <th>Kode_Kab_Kota</th>\n",
              "      <th>Kabupaten_Kota</th>\n",
              "      <th>Konfirmasi_total</th>\n",
              "      <th>Konfirmasi_sembuh</th>\n",
              "      <th>Konfirmasi_meninggal</th>\n",
              "      <th>Konfirmasi_aktif</th>\n",
              "      <th>Jumlah_RS_Rujukan</th>\n",
              "      <th>Jumlah_nakes</th>\n",
              "      <th>Kepadatan_Penduduk</th>\n",
              "      <th>cluster_3</th>\n",
              "      <th>cluster_4</th>\n",
              "    </tr>\n",
              "  </thead>\n",
              "  <tbody>\n",
              "    <tr>\n",
              "      <th>0</th>\n",
              "      <td>3204</td>\n",
              "      <td>Kabupaten Bandung</td>\n",
              "      <td>0.317433</td>\n",
              "      <td>0.312743</td>\n",
              "      <td>0.133438</td>\n",
              "      <td>2.623859</td>\n",
              "      <td>-0.230748</td>\n",
              "      <td>-0.027690</td>\n",
              "      <td>-0.405263</td>\n",
              "      <td>2</td>\n",
              "      <td>2</td>\n",
              "    </tr>\n",
              "    <tr>\n",
              "      <th>1</th>\n",
              "      <td>3217</td>\n",
              "      <td>Kabupaten Bandung Barat</td>\n",
              "      <td>-0.274237</td>\n",
              "      <td>-0.268430</td>\n",
              "      <td>-0.566716</td>\n",
              "      <td>0.497291</td>\n",
              "      <td>-0.490339</td>\n",
              "      <td>-0.561645</td>\n",
              "      <td>-0.557504</td>\n",
              "      <td>0</td>\n",
              "      <td>0</td>\n",
              "    </tr>\n",
              "    <tr>\n",
              "      <th>2</th>\n",
              "      <td>3216</td>\n",
              "      <td>Kabupaten Bekasi</td>\n",
              "      <td>1.011667</td>\n",
              "      <td>1.026079</td>\n",
              "      <td>-0.007409</td>\n",
              "      <td>0.466247</td>\n",
              "      <td>1.067209</td>\n",
              "      <td>0.911545</td>\n",
              "      <td>-0.295336</td>\n",
              "      <td>2</td>\n",
              "      <td>3</td>\n",
              "    </tr>\n",
              "    <tr>\n",
              "      <th>3</th>\n",
              "      <td>3201</td>\n",
              "      <td>Kabupaten Bogor</td>\n",
              "      <td>0.874474</td>\n",
              "      <td>0.901859</td>\n",
              "      <td>-0.687151</td>\n",
              "      <td>-0.108082</td>\n",
              "      <td>1.326800</td>\n",
              "      <td>1.303206</td>\n",
              "      <td>-0.416010</td>\n",
              "      <td>2</td>\n",
              "      <td>3</td>\n",
              "    </tr>\n",
              "    <tr>\n",
              "      <th>4</th>\n",
              "      <td>3207</td>\n",
              "      <td>Kabupaten Ciamis</td>\n",
              "      <td>-0.435346</td>\n",
              "      <td>-0.434246</td>\n",
              "      <td>-0.472818</td>\n",
              "      <td>0.636993</td>\n",
              "      <td>-0.749931</td>\n",
              "      <td>-0.591701</td>\n",
              "      <td>-0.669670</td>\n",
              "      <td>0</td>\n",
              "      <td>0</td>\n",
              "    </tr>\n",
              "    <tr>\n",
              "      <th>5</th>\n",
              "      <td>3203</td>\n",
              "      <td>Kabupaten Cianjur</td>\n",
              "      <td>-0.607731</td>\n",
              "      <td>-0.601570</td>\n",
              "      <td>-0.697358</td>\n",
              "      <td>-0.589276</td>\n",
              "      <td>-0.490339</td>\n",
              "      <td>-0.267195</td>\n",
              "      <td>-0.719820</td>\n",
              "      <td>0</td>\n",
              "      <td>0</td>\n",
              "    </tr>\n",
              "    <tr>\n",
              "      <th>6</th>\n",
              "      <td>3209</td>\n",
              "      <td>Kabupaten Cirebon</td>\n",
              "      <td>-0.041020</td>\n",
              "      <td>-0.055272</td>\n",
              "      <td>0.704993</td>\n",
              "      <td>-0.170171</td>\n",
              "      <td>0.028843</td>\n",
              "      <td>-1.017174</td>\n",
              "      <td>-0.347949</td>\n",
              "      <td>0</td>\n",
              "      <td>0</td>\n",
              "    </tr>\n",
              "    <tr>\n",
              "      <th>7</th>\n",
              "      <td>3205</td>\n",
              "      <td>Kabupaten Garut</td>\n",
              "      <td>0.029844</td>\n",
              "      <td>0.000462</td>\n",
              "      <td>1.280631</td>\n",
              "      <td>1.630426</td>\n",
              "      <td>-0.490339</td>\n",
              "      <td>-0.054458</td>\n",
              "      <td>-0.675939</td>\n",
              "      <td>0</td>\n",
              "      <td>2</td>\n",
              "    </tr>\n",
              "    <tr>\n",
              "      <th>8</th>\n",
              "      <td>3212</td>\n",
              "      <td>Kabupaten Indramayu</td>\n",
              "      <td>-0.410668</td>\n",
              "      <td>-0.421698</td>\n",
              "      <td>0.315111</td>\n",
              "      <td>-0.589276</td>\n",
              "      <td>-0.490339</td>\n",
              "      <td>-0.346560</td>\n",
              "      <td>-0.662954</td>\n",
              "      <td>0</td>\n",
              "      <td>0</td>\n",
              "    </tr>\n",
              "    <tr>\n",
              "      <th>9</th>\n",
              "      <td>3215</td>\n",
              "      <td>Kabupaten Karawang</td>\n",
              "      <td>0.692458</td>\n",
              "      <td>0.652320</td>\n",
              "      <td>2.664611</td>\n",
              "      <td>-0.930768</td>\n",
              "      <td>-0.230748</td>\n",
              "      <td>0.859417</td>\n",
              "      <td>-0.533773</td>\n",
              "      <td>2</td>\n",
              "      <td>2</td>\n",
              "    </tr>\n",
              "    <tr>\n",
              "      <th>10</th>\n",
              "      <td>3208</td>\n",
              "      <td>Kabupaten Kuningan</td>\n",
              "      <td>-0.500954</td>\n",
              "      <td>-0.494380</td>\n",
              "      <td>-0.607542</td>\n",
              "      <td>-0.806589</td>\n",
              "      <td>-0.490339</td>\n",
              "      <td>-0.531120</td>\n",
              "      <td>-0.628923</td>\n",
              "      <td>0</td>\n",
              "      <td>0</td>\n",
              "    </tr>\n",
              "    <tr>\n",
              "      <th>11</th>\n",
              "      <td>3210</td>\n",
              "      <td>Kabupaten Majalengka</td>\n",
              "      <td>-0.609136</td>\n",
              "      <td>-0.604544</td>\n",
              "      <td>-0.666739</td>\n",
              "      <td>-0.232261</td>\n",
              "      <td>-0.490339</td>\n",
              "      <td>-0.602502</td>\n",
              "      <td>-0.621535</td>\n",
              "      <td>0</td>\n",
              "      <td>0</td>\n",
              "    </tr>\n",
              "    <tr>\n",
              "      <th>12</th>\n",
              "      <td>3218</td>\n",
              "      <td>Kabupaten Pangandaran</td>\n",
              "      <td>-0.831318</td>\n",
              "      <td>-0.825198</td>\n",
              "      <td>-0.811669</td>\n",
              "      <td>-1.008380</td>\n",
              "      <td>-0.749931</td>\n",
              "      <td>-0.981013</td>\n",
              "      <td>-0.770418</td>\n",
              "      <td>0</td>\n",
              "      <td>0</td>\n",
              "    </tr>\n",
              "    <tr>\n",
              "      <th>13</th>\n",
              "      <td>3214</td>\n",
              "      <td>Kabupaten Purwakarta</td>\n",
              "      <td>-0.545695</td>\n",
              "      <td>-0.553170</td>\n",
              "      <td>0.072200</td>\n",
              "      <td>-0.884201</td>\n",
              "      <td>-0.490339</td>\n",
              "      <td>-0.320731</td>\n",
              "      <td>-0.593774</td>\n",
              "      <td>0</td>\n",
              "      <td>0</td>\n",
              "    </tr>\n",
              "    <tr>\n",
              "      <th>14</th>\n",
              "      <td>3213</td>\n",
              "      <td>Kabupaten Subang</td>\n",
              "      <td>-0.655081</td>\n",
              "      <td>-0.651804</td>\n",
              "      <td>-0.556510</td>\n",
              "      <td>-0.837634</td>\n",
              "      <td>-0.749931</td>\n",
              "      <td>-0.571507</td>\n",
              "      <td>-0.675715</td>\n",
              "      <td>0</td>\n",
              "      <td>0</td>\n",
              "    </tr>\n",
              "    <tr>\n",
              "      <th>15</th>\n",
              "      <td>3202</td>\n",
              "      <td>Kabupaten Sukabumi</td>\n",
              "      <td>-0.590717</td>\n",
              "      <td>-0.588411</td>\n",
              "      <td>-0.446282</td>\n",
              "      <td>-0.930768</td>\n",
              "      <td>0.807618</td>\n",
              "      <td>-0.055397</td>\n",
              "      <td>-0.717134</td>\n",
              "      <td>0</td>\n",
              "      <td>0</td>\n",
              "    </tr>\n",
              "    <tr>\n",
              "      <th>16</th>\n",
              "      <td>3211</td>\n",
              "      <td>Kabupaten Sumedang</td>\n",
              "      <td>-0.682126</td>\n",
              "      <td>-0.674211</td>\n",
              "      <td>-0.823916</td>\n",
              "      <td>-0.728977</td>\n",
              "      <td>-0.749931</td>\n",
              "      <td>-0.638193</td>\n",
              "      <td>-0.694298</td>\n",
              "      <td>0</td>\n",
              "      <td>0</td>\n",
              "    </tr>\n",
              "    <tr>\n",
              "      <th>17</th>\n",
              "      <td>3206</td>\n",
              "      <td>Kabupaten Tasikmalaya</td>\n",
              "      <td>-0.761256</td>\n",
              "      <td>-0.762375</td>\n",
              "      <td>-0.550386</td>\n",
              "      <td>0.171321</td>\n",
              "      <td>-0.749931</td>\n",
              "      <td>-0.676232</td>\n",
              "      <td>-0.700566</td>\n",
              "      <td>0</td>\n",
              "      <td>0</td>\n",
              "    </tr>\n",
              "    <tr>\n",
              "      <th>18</th>\n",
              "      <td>3273</td>\n",
              "      <td>Kota Bandung</td>\n",
              "      <td>0.752528</td>\n",
              "      <td>0.764562</td>\n",
              "      <td>-0.293187</td>\n",
              "      <td>2.034008</td>\n",
              "      <td>2.624757</td>\n",
              "      <td>3.543750</td>\n",
              "      <td>2.399332</td>\n",
              "      <td>1</td>\n",
              "      <td>1</td>\n",
              "    </tr>\n",
              "    <tr>\n",
              "      <th>19</th>\n",
              "      <td>3279</td>\n",
              "      <td>Kota Banjar</td>\n",
              "      <td>-0.846646</td>\n",
              "      <td>-0.840028</td>\n",
              "      <td>-0.842288</td>\n",
              "      <td>-1.054948</td>\n",
              "      <td>-0.749931</td>\n",
              "      <td>-0.940626</td>\n",
              "      <td>-0.467727</td>\n",
              "      <td>0</td>\n",
              "      <td>0</td>\n",
              "    </tr>\n",
              "    <tr>\n",
              "      <th>20</th>\n",
              "      <td>3275</td>\n",
              "      <td>Kota Bekasi</td>\n",
              "      <td>2.747112</td>\n",
              "      <td>2.770818</td>\n",
              "      <td>0.960152</td>\n",
              "      <td>-0.309873</td>\n",
              "      <td>2.624757</td>\n",
              "      <td>1.804757</td>\n",
              "      <td>1.892011</td>\n",
              "      <td>1</td>\n",
              "      <td>1</td>\n",
              "    </tr>\n",
              "    <tr>\n",
              "      <th>21</th>\n",
              "      <td>3271</td>\n",
              "      <td>Kota Bogor</td>\n",
              "      <td>0.446240</td>\n",
              "      <td>0.452974</td>\n",
              "      <td>-0.040069</td>\n",
              "      <td>0.342067</td>\n",
              "      <td>1.067209</td>\n",
              "      <td>0.629774</td>\n",
              "      <td>1.106402</td>\n",
              "      <td>2</td>\n",
              "      <td>3</td>\n",
              "    </tr>\n",
              "    <tr>\n",
              "      <th>22</th>\n",
              "      <td>3277</td>\n",
              "      <td>Kota Cimahi</td>\n",
              "      <td>-0.565357</td>\n",
              "      <td>-0.560014</td>\n",
              "      <td>-0.744307</td>\n",
              "      <td>0.326545</td>\n",
              "      <td>-0.490339</td>\n",
              "      <td>-0.383190</td>\n",
              "      <td>2.376272</td>\n",
              "      <td>0</td>\n",
              "      <td>0</td>\n",
              "    </tr>\n",
              "    <tr>\n",
              "      <th>23</th>\n",
              "      <td>3274</td>\n",
              "      <td>Kota Cirebon</td>\n",
              "      <td>-0.528762</td>\n",
              "      <td>-0.534266</td>\n",
              "      <td>-0.042111</td>\n",
              "      <td>-0.666888</td>\n",
              "      <td>-0.490339</td>\n",
              "      <td>-0.435318</td>\n",
              "      <td>1.133044</td>\n",
              "      <td>0</td>\n",
              "      <td>0</td>\n",
              "    </tr>\n",
              "    <tr>\n",
              "      <th>24</th>\n",
              "      <td>3276</td>\n",
              "      <td>Kota Depok</td>\n",
              "      <td>3.174022</td>\n",
              "      <td>3.152359</td>\n",
              "      <td>3.258620</td>\n",
              "      <td>1.987441</td>\n",
              "      <td>1.326800</td>\n",
              "      <td>0.981518</td>\n",
              "      <td>1.434392</td>\n",
              "      <td>1</td>\n",
              "      <td>1</td>\n",
              "    </tr>\n",
              "    <tr>\n",
              "      <th>25</th>\n",
              "      <td>3272</td>\n",
              "      <td>Kota Sukabumi</td>\n",
              "      <td>-0.673499</td>\n",
              "      <td>-0.671889</td>\n",
              "      <td>-0.529974</td>\n",
              "      <td>-0.511664</td>\n",
              "      <td>-0.749931</td>\n",
              "      <td>-0.557418</td>\n",
              "      <td>0.742814</td>\n",
              "      <td>0</td>\n",
              "      <td>0</td>\n",
              "    </tr>\n",
              "    <tr>\n",
              "      <th>26</th>\n",
              "      <td>3278</td>\n",
              "      <td>Kota Tasikmalaya</td>\n",
              "      <td>-0.486227</td>\n",
              "      <td>-0.492669</td>\n",
              "      <td>-0.003327</td>\n",
              "      <td>-0.356440</td>\n",
              "      <td>-0.749931</td>\n",
              "      <td>-0.474296</td>\n",
              "      <td>0.070043</td>\n",
              "      <td>0</td>\n",
              "      <td>0</td>\n",
              "    </tr>\n",
              "  </tbody>\n",
              "</table>\n",
              "</div>\n",
              "      <button class=\"colab-df-convert\" onclick=\"convertToInteractive('df-7043e91d-7524-4a21-a350-d8c845ad1120')\"\n",
              "              title=\"Convert this dataframe to an interactive table.\"\n",
              "              style=\"display:none;\">\n",
              "        \n",
              "  <svg xmlns=\"http://www.w3.org/2000/svg\" height=\"24px\"viewBox=\"0 0 24 24\"\n",
              "       width=\"24px\">\n",
              "    <path d=\"M0 0h24v24H0V0z\" fill=\"none\"/>\n",
              "    <path d=\"M18.56 5.44l.94 2.06.94-2.06 2.06-.94-2.06-.94-.94-2.06-.94 2.06-2.06.94zm-11 1L8.5 8.5l.94-2.06 2.06-.94-2.06-.94L8.5 2.5l-.94 2.06-2.06.94zm10 10l.94 2.06.94-2.06 2.06-.94-2.06-.94-.94-2.06-.94 2.06-2.06.94z\"/><path d=\"M17.41 7.96l-1.37-1.37c-.4-.4-.92-.59-1.43-.59-.52 0-1.04.2-1.43.59L10.3 9.45l-7.72 7.72c-.78.78-.78 2.05 0 2.83L4 21.41c.39.39.9.59 1.41.59.51 0 1.02-.2 1.41-.59l7.78-7.78 2.81-2.81c.8-.78.8-2.07 0-2.86zM5.41 20L4 18.59l7.72-7.72 1.47 1.35L5.41 20z\"/>\n",
              "  </svg>\n",
              "      </button>\n",
              "      \n",
              "  <style>\n",
              "    .colab-df-container {\n",
              "      display:flex;\n",
              "      flex-wrap:wrap;\n",
              "      gap: 12px;\n",
              "    }\n",
              "\n",
              "    .colab-df-convert {\n",
              "      background-color: #E8F0FE;\n",
              "      border: none;\n",
              "      border-radius: 50%;\n",
              "      cursor: pointer;\n",
              "      display: none;\n",
              "      fill: #1967D2;\n",
              "      height: 32px;\n",
              "      padding: 0 0 0 0;\n",
              "      width: 32px;\n",
              "    }\n",
              "\n",
              "    .colab-df-convert:hover {\n",
              "      background-color: #E2EBFA;\n",
              "      box-shadow: 0px 1px 2px rgba(60, 64, 67, 0.3), 0px 1px 3px 1px rgba(60, 64, 67, 0.15);\n",
              "      fill: #174EA6;\n",
              "    }\n",
              "\n",
              "    [theme=dark] .colab-df-convert {\n",
              "      background-color: #3B4455;\n",
              "      fill: #D2E3FC;\n",
              "    }\n",
              "\n",
              "    [theme=dark] .colab-df-convert:hover {\n",
              "      background-color: #434B5C;\n",
              "      box-shadow: 0px 1px 3px 1px rgba(0, 0, 0, 0.15);\n",
              "      filter: drop-shadow(0px 1px 2px rgba(0, 0, 0, 0.3));\n",
              "      fill: #FFFFFF;\n",
              "    }\n",
              "  </style>\n",
              "\n",
              "      <script>\n",
              "        const buttonEl =\n",
              "          document.querySelector('#df-7043e91d-7524-4a21-a350-d8c845ad1120 button.colab-df-convert');\n",
              "        buttonEl.style.display =\n",
              "          google.colab.kernel.accessAllowed ? 'block' : 'none';\n",
              "\n",
              "        async function convertToInteractive(key) {\n",
              "          const element = document.querySelector('#df-7043e91d-7524-4a21-a350-d8c845ad1120');\n",
              "          const dataTable =\n",
              "            await google.colab.kernel.invokeFunction('convertToInteractive',\n",
              "                                                     [key], {});\n",
              "          if (!dataTable) return;\n",
              "\n",
              "          const docLinkHtml = 'Like what you see? Visit the ' +\n",
              "            '<a target=\"_blank\" href=https://colab.research.google.com/notebooks/data_table.ipynb>data table notebook</a>'\n",
              "            + ' to learn more about interactive tables.';\n",
              "          element.innerHTML = '';\n",
              "          dataTable['output_type'] = 'display_data';\n",
              "          await google.colab.output.renderOutput(dataTable, element);\n",
              "          const docLink = document.createElement('div');\n",
              "          docLink.innerHTML = docLinkHtml;\n",
              "          element.appendChild(docLink);\n",
              "        }\n",
              "      </script>\n",
              "    </div>\n",
              "  </div>\n",
              "  "
            ],
            "text/plain": [
              "    Kode_Kab_Kota           Kabupaten_Kota  ...  cluster_3  cluster_4\n",
              "0            3204        Kabupaten Bandung  ...          2          2\n",
              "1            3217  Kabupaten Bandung Barat  ...          0          0\n",
              "2            3216         Kabupaten Bekasi  ...          2          3\n",
              "3            3201          Kabupaten Bogor  ...          2          3\n",
              "4            3207         Kabupaten Ciamis  ...          0          0\n",
              "5            3203        Kabupaten Cianjur  ...          0          0\n",
              "6            3209        Kabupaten Cirebon  ...          0          0\n",
              "7            3205          Kabupaten Garut  ...          0          2\n",
              "8            3212      Kabupaten Indramayu  ...          0          0\n",
              "9            3215       Kabupaten Karawang  ...          2          2\n",
              "10           3208       Kabupaten Kuningan  ...          0          0\n",
              "11           3210     Kabupaten Majalengka  ...          0          0\n",
              "12           3218    Kabupaten Pangandaran  ...          0          0\n",
              "13           3214     Kabupaten Purwakarta  ...          0          0\n",
              "14           3213         Kabupaten Subang  ...          0          0\n",
              "15           3202       Kabupaten Sukabumi  ...          0          0\n",
              "16           3211       Kabupaten Sumedang  ...          0          0\n",
              "17           3206    Kabupaten Tasikmalaya  ...          0          0\n",
              "18           3273             Kota Bandung  ...          1          1\n",
              "19           3279              Kota Banjar  ...          0          0\n",
              "20           3275              Kota Bekasi  ...          1          1\n",
              "21           3271               Kota Bogor  ...          2          3\n",
              "22           3277              Kota Cimahi  ...          0          0\n",
              "23           3274             Kota Cirebon  ...          0          0\n",
              "24           3276               Kota Depok  ...          1          1\n",
              "25           3272            Kota Sukabumi  ...          0          0\n",
              "26           3278         Kota Tasikmalaya  ...          0          0\n",
              "\n",
              "[27 rows x 11 columns]"
            ]
          },
          "metadata": {},
          "execution_count": 44
        }
      ]
    },
    {
      "cell_type": "code",
      "source": [
        "#See Characteristic of Cluster in each variables\n",
        "hasil2=df.groupby(['cluster_4']).agg({\"Konfirmasi_total\":\"mean\",\"Konfirmasi_sembuh\":\"mean\",\"Konfirmasi_meninggal\":\"mean\",\n",
        "                                                 \"Konfirmasi_aktif\":\"mean\",\"Jumlah_RS_Rujukan\":\"mean\",\"Jumlah_nakes\":\"mean\",\"Kepadatan_Penduduk\":\"mean\"}).reset_index()\n",
        "hasil2"
      ],
      "metadata": {
        "colab": {
          "base_uri": "https://localhost:8080/",
          "height": 0
        },
        "id": "3q_HarPq59cT",
        "outputId": "100e6950-5510-45de-a1f3-15a7b5475050"
      },
      "execution_count": 45,
      "outputs": [
        {
          "output_type": "execute_result",
          "data": {
            "text/html": [
              "\n",
              "  <div id=\"df-662c693c-0fbb-4c79-9242-48dfe603a7a8\">\n",
              "    <div class=\"colab-df-container\">\n",
              "      <div>\n",
              "<style scoped>\n",
              "    .dataframe tbody tr th:only-of-type {\n",
              "        vertical-align: middle;\n",
              "    }\n",
              "\n",
              "    .dataframe tbody tr th {\n",
              "        vertical-align: top;\n",
              "    }\n",
              "\n",
              "    .dataframe thead th {\n",
              "        text-align: right;\n",
              "    }\n",
              "</style>\n",
              "<table border=\"1\" class=\"dataframe\">\n",
              "  <thead>\n",
              "    <tr style=\"text-align: right;\">\n",
              "      <th></th>\n",
              "      <th>cluster_4</th>\n",
              "      <th>Konfirmasi_total</th>\n",
              "      <th>Konfirmasi_sembuh</th>\n",
              "      <th>Konfirmasi_meninggal</th>\n",
              "      <th>Konfirmasi_aktif</th>\n",
              "      <th>Jumlah_RS_Rujukan</th>\n",
              "      <th>Jumlah_nakes</th>\n",
              "      <th>Kepadatan_Penduduk</th>\n",
              "    </tr>\n",
              "  </thead>\n",
              "  <tbody>\n",
              "    <tr>\n",
              "      <th>0</th>\n",
              "      <td>0</td>\n",
              "      <td>-0.558099</td>\n",
              "      <td>-0.557454</td>\n",
              "      <td>-0.403869</td>\n",
              "      <td>-0.429740</td>\n",
              "      <td>-0.504761</td>\n",
              "      <td>-0.552879</td>\n",
              "      <td>-0.250323</td>\n",
              "    </tr>\n",
              "    <tr>\n",
              "      <th>1</th>\n",
              "      <td>1</td>\n",
              "      <td>2.224554</td>\n",
              "      <td>2.229246</td>\n",
              "      <td>1.308528</td>\n",
              "      <td>1.237192</td>\n",
              "      <td>2.192105</td>\n",
              "      <td>2.110008</td>\n",
              "      <td>1.908578</td>\n",
              "    </tr>\n",
              "    <tr>\n",
              "      <th>2</th>\n",
              "      <td>2</td>\n",
              "      <td>0.346578</td>\n",
              "      <td>0.321841</td>\n",
              "      <td>1.359560</td>\n",
              "      <td>1.107839</td>\n",
              "      <td>-0.317278</td>\n",
              "      <td>0.259090</td>\n",
              "      <td>-0.538325</td>\n",
              "    </tr>\n",
              "    <tr>\n",
              "      <th>3</th>\n",
              "      <td>3</td>\n",
              "      <td>0.777460</td>\n",
              "      <td>0.793637</td>\n",
              "      <td>-0.244877</td>\n",
              "      <td>0.233411</td>\n",
              "      <td>1.153739</td>\n",
              "      <td>0.948175</td>\n",
              "      <td>0.131685</td>\n",
              "    </tr>\n",
              "  </tbody>\n",
              "</table>\n",
              "</div>\n",
              "      <button class=\"colab-df-convert\" onclick=\"convertToInteractive('df-662c693c-0fbb-4c79-9242-48dfe603a7a8')\"\n",
              "              title=\"Convert this dataframe to an interactive table.\"\n",
              "              style=\"display:none;\">\n",
              "        \n",
              "  <svg xmlns=\"http://www.w3.org/2000/svg\" height=\"24px\"viewBox=\"0 0 24 24\"\n",
              "       width=\"24px\">\n",
              "    <path d=\"M0 0h24v24H0V0z\" fill=\"none\"/>\n",
              "    <path d=\"M18.56 5.44l.94 2.06.94-2.06 2.06-.94-2.06-.94-.94-2.06-.94 2.06-2.06.94zm-11 1L8.5 8.5l.94-2.06 2.06-.94-2.06-.94L8.5 2.5l-.94 2.06-2.06.94zm10 10l.94 2.06.94-2.06 2.06-.94-2.06-.94-.94-2.06-.94 2.06-2.06.94z\"/><path d=\"M17.41 7.96l-1.37-1.37c-.4-.4-.92-.59-1.43-.59-.52 0-1.04.2-1.43.59L10.3 9.45l-7.72 7.72c-.78.78-.78 2.05 0 2.83L4 21.41c.39.39.9.59 1.41.59.51 0 1.02-.2 1.41-.59l7.78-7.78 2.81-2.81c.8-.78.8-2.07 0-2.86zM5.41 20L4 18.59l7.72-7.72 1.47 1.35L5.41 20z\"/>\n",
              "  </svg>\n",
              "      </button>\n",
              "      \n",
              "  <style>\n",
              "    .colab-df-container {\n",
              "      display:flex;\n",
              "      flex-wrap:wrap;\n",
              "      gap: 12px;\n",
              "    }\n",
              "\n",
              "    .colab-df-convert {\n",
              "      background-color: #E8F0FE;\n",
              "      border: none;\n",
              "      border-radius: 50%;\n",
              "      cursor: pointer;\n",
              "      display: none;\n",
              "      fill: #1967D2;\n",
              "      height: 32px;\n",
              "      padding: 0 0 0 0;\n",
              "      width: 32px;\n",
              "    }\n",
              "\n",
              "    .colab-df-convert:hover {\n",
              "      background-color: #E2EBFA;\n",
              "      box-shadow: 0px 1px 2px rgba(60, 64, 67, 0.3), 0px 1px 3px 1px rgba(60, 64, 67, 0.15);\n",
              "      fill: #174EA6;\n",
              "    }\n",
              "\n",
              "    [theme=dark] .colab-df-convert {\n",
              "      background-color: #3B4455;\n",
              "      fill: #D2E3FC;\n",
              "    }\n",
              "\n",
              "    [theme=dark] .colab-df-convert:hover {\n",
              "      background-color: #434B5C;\n",
              "      box-shadow: 0px 1px 3px 1px rgba(0, 0, 0, 0.15);\n",
              "      filter: drop-shadow(0px 1px 2px rgba(0, 0, 0, 0.3));\n",
              "      fill: #FFFFFF;\n",
              "    }\n",
              "  </style>\n",
              "\n",
              "      <script>\n",
              "        const buttonEl =\n",
              "          document.querySelector('#df-662c693c-0fbb-4c79-9242-48dfe603a7a8 button.colab-df-convert');\n",
              "        buttonEl.style.display =\n",
              "          google.colab.kernel.accessAllowed ? 'block' : 'none';\n",
              "\n",
              "        async function convertToInteractive(key) {\n",
              "          const element = document.querySelector('#df-662c693c-0fbb-4c79-9242-48dfe603a7a8');\n",
              "          const dataTable =\n",
              "            await google.colab.kernel.invokeFunction('convertToInteractive',\n",
              "                                                     [key], {});\n",
              "          if (!dataTable) return;\n",
              "\n",
              "          const docLinkHtml = 'Like what you see? Visit the ' +\n",
              "            '<a target=\"_blank\" href=https://colab.research.google.com/notebooks/data_table.ipynb>data table notebook</a>'\n",
              "            + ' to learn more about interactive tables.';\n",
              "          element.innerHTML = '';\n",
              "          dataTable['output_type'] = 'display_data';\n",
              "          await google.colab.output.renderOutput(dataTable, element);\n",
              "          const docLink = document.createElement('div');\n",
              "          docLink.innerHTML = docLinkHtml;\n",
              "          element.appendChild(docLink);\n",
              "        }\n",
              "      </script>\n",
              "    </div>\n",
              "  </div>\n",
              "  "
            ],
            "text/plain": [
              "   cluster_4  Konfirmasi_total  ...  Jumlah_nakes  Kepadatan_Penduduk\n",
              "0          0         -0.558099  ...     -0.552879           -0.250323\n",
              "1          1          2.224554  ...      2.110008            1.908578\n",
              "2          2          0.346578  ...      0.259090           -0.538325\n",
              "3          3          0.777460  ...      0.948175            0.131685\n",
              "\n",
              "[4 rows x 8 columns]"
            ]
          },
          "metadata": {},
          "execution_count": 45
        }
      ]
    },
    {
      "cell_type": "code",
      "source": [
        "fig = plt.figure(figsize = (15, 5))\n",
        "\n",
        "hasil2['cluster_4'] = hasil2.index\n",
        "pd.plotting.parallel_coordinates(hasil2, 'cluster_4', color=('r', 'g','b','black'))\n",
        "plt.show()"
      ],
      "metadata": {
        "colab": {
          "base_uri": "https://localhost:8080/",
          "height": 0
        },
        "id": "devZoSqe6GeJ",
        "outputId": "d390714f-f51f-4c22-c110-b7f0d9f8a04f"
      },
      "execution_count": 46,
      "outputs": [
        {
          "output_type": "display_data",
          "data": {
            "image/png": "[encoded data removed]",
            "text/plain": [
              "<Figure size 1080x360 with 1 Axes>"
            ]
          },
          "metadata": {
            "needs_background": "light"
          }
        }
      ]
    },
    {
      "cell_type": "code",
      "source": [
        "# Hasil clusteringnya\n",
        "C_km2 = kmedoids2.predict(X)\n",
        "p= sns.countplot(C_km2)"
      ],
      "metadata": {
        "colab": {
          "base_uri": "https://localhost:8080/",
          "height": 0
        },
        "id": "Rb3W8U5M6tni",
        "outputId": "5f42ed21-24e2-478b-f767-4d9763f777c3"
      },
      "execution_count": 47,
      "outputs": [
        {
          "output_type": "stream",
          "name": "stderr",
          "text": [
            "/usr/local/lib/python3.7/dist-packages/seaborn/_decorators.py:43: FutureWarning: Pass the following variable as a keyword arg: x. From version 0.12, the only valid positional argument will be `data`, and passing other arguments without an explicit keyword will result in an error or misinterpretation.\n",
            "  FutureWarning\n"
          ]
        },
        {
          "output_type": "display_data",
          "data": {
            "image/png": "[encoded data removed]",
            "text/plain": [
              "<Figure size 432x288 with 1 Axes>"
            ]
          },
          "metadata": {
            "needs_background": "light"
          }
        }
      ]
    },
    {
      "cell_type": "code",
      "source": [
        "X2D = umap.UMAP(n_neighbors=5, min_dist=0.3, random_state=random_state).fit_transform(X)\n",
        "fig, ax = plt.subplots()\n",
        "ax.scatter(X2D[:,0], X2D[:,1], c=C_km2)\n",
        "plt.show()"
      ],
      "metadata": {
        "colab": {
          "base_uri": "https://localhost:8080/",
          "height": 0
        },
        "id": "sSgbNWJe6xZK",
        "outputId": "ba3f9deb-5a5f-41e5-9f35-ff6e2fb62b3b"
      },
      "execution_count": 48,
      "outputs": [
        {
          "output_type": "display_data",
          "data": {
            "image/png": "[encoded data removed]",
            "text/plain": [
              "<Figure size 432x288 with 1 Axes>"
            ]
          },
          "metadata": {
            "needs_background": "light"
          }
        }
      ]
    },
    {
      "cell_type": "code",
      "source": [
        "df[df.cluster_4 == 0].Kabupaten_Kota.values"
      ],
      "metadata": {
        "colab": {
          "base_uri": "https://localhost:8080/"
        },
        "id": "L0MwKoEVBLj-",
        "outputId": "3a949f9c-435f-494e-9856-7d52836ae1f5"
      },
      "execution_count": 49,
      "outputs": [
        {
          "output_type": "execute_result",
          "data": {
            "text/plain": [
              "array(['Kabupaten Bandung Barat', 'Kabupaten Ciamis', 'Kabupaten Cianjur',\n",
              "       'Kabupaten Cirebon', 'Kabupaten Indramayu', 'Kabupaten Kuningan',\n",
              "       'Kabupaten Majalengka', 'Kabupaten Pangandaran',\n",
              "       'Kabupaten Purwakarta', 'Kabupaten Subang', 'Kabupaten Sukabumi',\n",
              "       'Kabupaten Sumedang', 'Kabupaten Tasikmalaya', 'Kota Banjar',\n",
              "       'Kota Cimahi', 'Kota Cirebon', 'Kota Sukabumi', 'Kota Tasikmalaya'],\n",
              "      dtype=object)"
            ]
          },
          "metadata": {},
          "execution_count": 49
        }
      ]
    },
    {
      "cell_type": "code",
      "source": [
        "df[df.cluster_4 == 1].Kabupaten_Kota.values"
      ],
      "metadata": {
        "colab": {
          "base_uri": "https://localhost:8080/"
        },
        "id": "IQ4wCqwcBLxq",
        "outputId": "06216959-65bd-4d37-c90b-d29014a9dbcd"
      },
      "execution_count": 50,
      "outputs": [
        {
          "output_type": "execute_result",
          "data": {
            "text/plain": [
              "array(['Kota Bandung', 'Kota Bekasi', 'Kota Depok'], dtype=object)"
            ]
          },
          "metadata": {},
          "execution_count": 50
        }
      ]
    },
    {
      "cell_type": "code",
      "source": [
        "df[df.cluster_4 == 2].Kabupaten_Kota.values"
      ],
      "metadata": {
        "colab": {
          "base_uri": "https://localhost:8080/"
        },
        "id": "sd9ob5dyBL3T",
        "outputId": "12a5c813-a95a-4283-b5d9-bf182c80338a"
      },
      "execution_count": 51,
      "outputs": [
        {
          "output_type": "execute_result",
          "data": {
            "text/plain": [
              "array(['Kabupaten Bandung', 'Kabupaten Garut', 'Kabupaten Karawang'],\n",
              "      dtype=object)"
            ]
          },
          "metadata": {},
          "execution_count": 51
        }
      ]
    },
    {
      "cell_type": "code",
      "source": [
        "df[df.cluster_4 == 3].Kabupaten_Kota.values"
      ],
      "metadata": {
        "id": "auDuct_CBsjV",
        "outputId": "13e3b000-e64b-43fd-c2ae-8754d989f340",
        "colab": {
          "base_uri": "https://localhost:8080/"
        }
      },
      "execution_count": 52,
      "outputs": [
        {
          "output_type": "execute_result",
          "data": {
            "text/plain": [
              "array(['Kabupaten Bekasi', 'Kabupaten Bogor', 'Kota Bogor'], dtype=object)"
            ]
          },
          "metadata": {},
          "execution_count": 52
        }
      ]
    },
    {
      "cell_type": "markdown",
      "source": [
        "### **Evaluasi**"
      ],
      "metadata": {
        "id": "giAvAqTDdzfy"
      }
    },
    {
      "cell_type": "markdown",
      "source": [
        "Evaluasi Internal dengan Silouette Coefficient"
      ],
      "metadata": {
        "id": "9iz3cA6yOMFq"
      }
    },
    {
      "cell_type": "code",
      "source": [
        "from sklearn.metrics import silhouette_score as siluet"
      ],
      "metadata": {
        "id": "gFypH4brPOc-"
      },
      "execution_count": 53,
      "outputs": []
    },
    {
      "cell_type": "code",
      "source": [
        "Hasil_Clustering = [C_km, C_km2]\n",
        "for res in Hasil_Clustering:\n",
        "    print(siluet(X,res), end=', ')"
      ],
      "metadata": {
        "colab": {
          "base_uri": "https://localhost:8080/"
        },
        "id": "CxeOkcu1ORbs",
        "outputId": "e41b69cd-4401-4c49-8b69-64e3a5a70895"
      },
      "execution_count": 54,
      "outputs": [
        {
          "output_type": "stream",
          "name": "stdout",
          "text": [
            "0.3959119723317038, 0.4172980615756156, "
          ]
        }
      ]
    }
  ]
}